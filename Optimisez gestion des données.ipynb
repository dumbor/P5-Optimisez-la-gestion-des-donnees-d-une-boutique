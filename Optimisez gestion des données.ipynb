{
 "cells": [
  {
   "cell_type": "markdown",
   "id": "ee343231-fc5c-48cb-8fec-67a7ae99d861",
   "metadata": {
    "tags": []
   },
   "source": [
    "![bottleneck](logo.png)\n",
    "# Sommaire\n",
    "**Objectifs**\n",
    " - <a href=\"#C1\">Missions</a>\n",
    "\n",
    "**Préparation des données**\n",
    "- <a href=\"#C2\">Nettoyage du jeu de données</a>\n",
    "    - <a href=\"#C3\">Initialisation du projet</a>\n",
    "    - <a href=\"#C4\">Vérification et transformation de données</a>\n",
    "\n",
    "**Partie 1 : Rapprochement des exports**\n",
    "- <a href=\"#C5\">Rapprochement des 2 tableaux</a>\n",
    " \n",
    "**Partie 2 : Calculs**\n",
    "- <a href=\"#C6\">Calcul du CA par produit</a>\n",
    "- <a href=\"#C7\">Calcul du total du chiffre d’affaires réalisé en ligne</a>\n",
    "\n",
    " \n",
    "**Partie 3 : Analyse univariée**\n",
    " - <a href=\"#C8\">Analyse de la variable \"prix\"</a>\n",
    "     - <a href=\"#C9\">Représentation empirique</a>\n",
    "     - <a href=\"#C10\">Calcul du Z-score</a>\n",
    "     - <a href=\"#C11\">Calcul de l'écart interquartile</a>\n",
    "     - <a href=\"#C12\">Représentation graphique des outliers</a>\n",
    "     - <a href=\"#C13\">Conclusion</a>"
   ]
  },
  {
   "cell_type": "markdown",
   "id": "2c735c87-99c0-4c71-af7d-c5ccad7b815d",
   "metadata": {},
   "source": [
    "# <a name=\"C1\"> Missions</a>\n",
    "\n",
    "1. Premièrement, j’ai besoin que tu rapproches deux exports : un export de l’ERP contenant les références produit, leur prix de vente et leur état de stock, et un export d’une table de l’outil de CMS contenant les informations des produits commercialisés en ligne (nom, description, nombre de ventes...).\n",
    "L’export issu de la boutique en ligne contient le nombre de ventes pour chaque produit depuis sa mise en ligne, il ne permet pas d’analyser l'évolution des ventes dans le temps.\n",
    "Je vais t’envoyer un mail dès la fin de notre entretien avec ces 2 exports en pièce jointe.\n",
    "En plus de ces 2 exports, tu vas bénéficier d’une aide précieuse car Sylvie, notre ancienne stagiaire, a réalisé un travail de fourmi. Elle a créé un tableau Excel qui permet d’établir le lien entre la référence du produit dans l’ERP (product_id) et la référence du même produit dans la base de la boutique en ligne (SKU). \n",
    "\n",
    "2. Deuxièmement, une fois le rapprochement effectué, je souhaiterais avoir le chiffre d’affaires par produit, ainsi que le total du chiffre d’affaires réalisé en ligne.\n",
    "\n",
    "3. Troisièmement et pour finir, je me demande s’il n’y a pas eu des erreurs de saisie dans certains prix des produits. J'aimerais que tu effectues une analyse sur cette variable afin de détecter d’éventuelles valeurs aberrantes, de les lister et d’en faire une représentation graphique pour plus de lisibilité.\n",
    "\n",
    "\n",
    "**Les fichiers csv à disposition sont**\n",
    "- erp.xlsx : fichier issu de l’ERP\n",
    "- web.xlsx : fichier de la table produit de notre plateforme de vente en ligne\n",
    "- liaison.xlsx : lien entre la référence du produit dans l’ERP (product_id) et la référence du même produit dans la base de la boutique en ligne (SKU)"
   ]
  },
  {
   "cell_type": "markdown",
   "id": "e3d89291-5e69-4ecf-bab9-ee7bbc4d5553",
   "metadata": {},
   "source": [
    "# <a name=\"C2\">Nettoyage du jeu de données</a>"
   ]
  },
  {
   "cell_type": "markdown",
   "id": "7ad3c748-acfa-449b-b99a-2a0a40c08cd6",
   "metadata": {},
   "source": [
    "## <a name = \"C3\">Initialisation du projet</a>"
   ]
  },
  {
   "cell_type": "markdown",
   "id": "9980a330-c83a-4d2d-a5f4-b87b53df139b",
   "metadata": {},
   "source": [
    "Import des librairies"
   ]
  },
  {
   "cell_type": "code",
   "execution_count": 82,
   "id": "ed2c4f7d-7e09-4468-af57-ed0c65d64964",
   "metadata": {},
   "outputs": [],
   "source": [
    "import pandas as pd\n",
    "import numpy as np\n",
    "import seaborn as sns\n",
    "import matplotlib.pyplot as plt\n",
    "#On indique que l'on veut voir apparaître les graphiques dans le notebook, sinon on ne verrait rien\n",
    "%matplotlib inline"
   ]
  },
  {
   "cell_type": "markdown",
   "id": "c4cc8808-788b-4d08-b4ae-3c8b6bea5182",
   "metadata": {},
   "source": [
    "Import des fichiers"
   ]
  },
  {
   "cell_type": "code",
   "execution_count": 83,
   "id": "2f1e6ad0-6b16-43e9-8f1a-fe34339ec184",
   "metadata": {},
   "outputs": [
    {
     "name": "stderr",
     "output_type": "stream",
     "text": [
      "/Users/laetitia/opt/anaconda3/lib/python3.9/site-packages/openpyxl/worksheet/_reader.py:312: UserWarning: Unknown extension is not supported and will be removed\n",
      "  warn(msg)\n",
      "/Users/laetitia/opt/anaconda3/lib/python3.9/site-packages/openpyxl/worksheet/_reader.py:312: UserWarning: Unknown extension is not supported and will be removed\n",
      "  warn(msg)\n",
      "/Users/laetitia/opt/anaconda3/lib/python3.9/site-packages/openpyxl/worksheet/_reader.py:312: UserWarning: Unknown extension is not supported and will be removed\n",
      "  warn(msg)\n"
     ]
    }
   ],
   "source": [
    "chemin_fichiers='./fichiers/'\n",
    "df_erp= pd.read_excel(chemin_fichiers+'erp.xlsx')\n",
    "df_web=pd.read_excel(chemin_fichiers+'web.xlsx')\n",
    "df_liaison=pd.read_excel(chemin_fichiers+'liaison.xlsx')"
   ]
  },
  {
   "cell_type": "markdown",
   "id": "f2170ec0-04bc-443f-a746-72606bdd967d",
   "metadata": {},
   "source": [
    "Variables"
   ]
  },
  {
   "cell_type": "code",
   "execution_count": 84,
   "id": "5ec79d6b-af4e-4162-aff8-8b5dd5e46601",
   "metadata": {},
   "outputs": [],
   "source": [
    "pd.set_option(\"display.max_columns\", 25)\n",
    "pd.set_option(\"display.max_rows\", 100)"
   ]
  },
  {
   "cell_type": "markdown",
   "id": "3afdd769-ebda-4ca3-90ae-d618937fa189",
   "metadata": {},
   "source": [
    "## <a name =\"C4\">Vérification et transformation de données</a>"
   ]
  },
  {
   "cell_type": "markdown",
   "id": "36ea71e6-dc40-4a88-8f80-60de0af393bd",
   "metadata": {
    "tags": []
   },
   "source": [
    "### Valeurs vides ou à zéro\n",
    "\n",
    "Après identification des valeurs nulles et égales à 0, il faudra décider quoi en faire.<br>\n",
    "J'affiche le nombre de lignes par fichier qui me permettra de savoir si le nombre de valeurs nulles par colonnes est conséquent ou pas."
   ]
  },
  {
   "cell_type": "code",
   "execution_count": 85,
   "id": "b8e71fba-9a5d-48ab-a3c6-867214391569",
   "metadata": {},
   "outputs": [
    {
     "name": "stdout",
     "output_type": "stream",
     "text": [
      "Le fichier web contient 1513 lignes et 28 colonnes.\n",
      "Le fichier erp contient 825 lignes et 5 colonnes.\n",
      "Le fichier liaison contient 825 lignes et 2 colonnes.\n"
     ]
    }
   ],
   "source": [
    "# Nombre de lignes et colonnes par fichiers\n",
    "print (f'Le fichier web contient {df_web.shape[0]} lignes et {df_web.shape[1]} colonnes.')\n",
    "print (f'Le fichier erp contient {df_erp.shape[0]} lignes et {df_erp.shape[1]} colonnes.')\n",
    "print (f'Le fichier liaison contient {df_liaison.shape[0]} lignes et {df_liaison.shape[1]} colonnes.')"
   ]
  },
  {
   "cell_type": "code",
   "execution_count": 86,
   "id": "9f2bc84d-a6cb-4fe4-87fa-bc8f82b0aea9",
   "metadata": {},
   "outputs": [
    {
     "data": {
      "text/html": [
       "<div>\n",
       "<style scoped>\n",
       "    .dataframe tbody tr th:only-of-type {\n",
       "        vertical-align: middle;\n",
       "    }\n",
       "\n",
       "    .dataframe tbody tr th {\n",
       "        vertical-align: top;\n",
       "    }\n",
       "\n",
       "    .dataframe thead th {\n",
       "        text-align: right;\n",
       "    }\n",
       "</style>\n",
       "<table border=\"1\" class=\"dataframe\">\n",
       "  <thead>\n",
       "    <tr style=\"text-align: right;\">\n",
       "      <th></th>\n",
       "      <th>sku</th>\n",
       "      <th>virtual</th>\n",
       "      <th>downloadable</th>\n",
       "      <th>rating_count</th>\n",
       "      <th>average_rating</th>\n",
       "      <th>total_sales</th>\n",
       "      <th>tax_status</th>\n",
       "      <th>tax_class</th>\n",
       "      <th>post_author</th>\n",
       "      <th>post_date</th>\n",
       "      <th>post_date_gmt</th>\n",
       "      <th>post_content</th>\n",
       "      <th>...</th>\n",
       "      <th>ping_status</th>\n",
       "      <th>post_password</th>\n",
       "      <th>post_name</th>\n",
       "      <th>post_modified</th>\n",
       "      <th>post_modified_gmt</th>\n",
       "      <th>post_content_filtered</th>\n",
       "      <th>post_parent</th>\n",
       "      <th>guid</th>\n",
       "      <th>menu_order</th>\n",
       "      <th>post_type</th>\n",
       "      <th>post_mime_type</th>\n",
       "      <th>comment_count</th>\n",
       "    </tr>\n",
       "  </thead>\n",
       "  <tbody>\n",
       "    <tr>\n",
       "      <th>0</th>\n",
       "      <td>bon-cadeau-25-euros</td>\n",
       "      <td>0</td>\n",
       "      <td>0</td>\n",
       "      <td>0</td>\n",
       "      <td>0.0</td>\n",
       "      <td>10.0</td>\n",
       "      <td>taxable</td>\n",
       "      <td>NaN</td>\n",
       "      <td>1.0</td>\n",
       "      <td>2018-06-01 13:53:46</td>\n",
       "      <td>2018-06-01 11:53:46</td>\n",
       "      <td>NaN</td>\n",
       "      <td>...</td>\n",
       "      <td>closed</td>\n",
       "      <td>NaN</td>\n",
       "      <td>bon-cadeau-de-25-euros</td>\n",
       "      <td>2018-06-01 14:13:57</td>\n",
       "      <td>2018-06-01 12:13:57</td>\n",
       "      <td>NaN</td>\n",
       "      <td>0.0</td>\n",
       "      <td>https://www.bottle-neck.fr/?post_type=product&amp;...</td>\n",
       "      <td>0.0</td>\n",
       "      <td>product</td>\n",
       "      <td>NaN</td>\n",
       "      <td>0.0</td>\n",
       "    </tr>\n",
       "    <tr>\n",
       "      <th>1</th>\n",
       "      <td>15298</td>\n",
       "      <td>0</td>\n",
       "      <td>0</td>\n",
       "      <td>0</td>\n",
       "      <td>0.0</td>\n",
       "      <td>6.0</td>\n",
       "      <td>taxable</td>\n",
       "      <td>NaN</td>\n",
       "      <td>2.0</td>\n",
       "      <td>2018-02-08 12:58:52</td>\n",
       "      <td>2018-02-08 11:58:52</td>\n",
       "      <td>NaN</td>\n",
       "      <td>...</td>\n",
       "      <td>closed</td>\n",
       "      <td>NaN</td>\n",
       "      <td>pierre-jean-villa-saint-joseph-preface-2018</td>\n",
       "      <td>2019-12-30 09:30:29</td>\n",
       "      <td>2019-12-30 08:30:29</td>\n",
       "      <td>NaN</td>\n",
       "      <td>0.0</td>\n",
       "      <td>https://www.bottle-neck.fr/?post_type=product&amp;...</td>\n",
       "      <td>0.0</td>\n",
       "      <td>product</td>\n",
       "      <td>NaN</td>\n",
       "      <td>0.0</td>\n",
       "    </tr>\n",
       "    <tr>\n",
       "      <th>2</th>\n",
       "      <td>15296</td>\n",
       "      <td>0</td>\n",
       "      <td>0</td>\n",
       "      <td>0</td>\n",
       "      <td>0.0</td>\n",
       "      <td>0.0</td>\n",
       "      <td>taxable</td>\n",
       "      <td>NaN</td>\n",
       "      <td>2.0</td>\n",
       "      <td>2018-02-08 13:49:41</td>\n",
       "      <td>2018-02-08 12:49:41</td>\n",
       "      <td>NaN</td>\n",
       "      <td>...</td>\n",
       "      <td>closed</td>\n",
       "      <td>NaN</td>\n",
       "      <td>pierre-jean-villa-saint-joseph-tilde-2017</td>\n",
       "      <td>2019-12-21 09:00:17</td>\n",
       "      <td>2019-12-21 08:00:17</td>\n",
       "      <td>NaN</td>\n",
       "      <td>0.0</td>\n",
       "      <td>https://www.bottle-neck.fr/?post_type=product&amp;...</td>\n",
       "      <td>0.0</td>\n",
       "      <td>product</td>\n",
       "      <td>NaN</td>\n",
       "      <td>0.0</td>\n",
       "    </tr>\n",
       "    <tr>\n",
       "      <th>3</th>\n",
       "      <td>15300</td>\n",
       "      <td>0</td>\n",
       "      <td>0</td>\n",
       "      <td>0</td>\n",
       "      <td>0.0</td>\n",
       "      <td>0.0</td>\n",
       "      <td>taxable</td>\n",
       "      <td>NaN</td>\n",
       "      <td>2.0</td>\n",
       "      <td>2018-02-08 14:08:36</td>\n",
       "      <td>2018-02-08 13:08:36</td>\n",
       "      <td>NaN</td>\n",
       "      <td>...</td>\n",
       "      <td>closed</td>\n",
       "      <td>NaN</td>\n",
       "      <td>pierre-jean-villa-croze-hermitage-accroche-coe...</td>\n",
       "      <td>2020-06-26 18:15:03</td>\n",
       "      <td>2020-06-26 16:15:03</td>\n",
       "      <td>NaN</td>\n",
       "      <td>0.0</td>\n",
       "      <td>https://www.bottle-neck.fr/?post_type=product&amp;...</td>\n",
       "      <td>0.0</td>\n",
       "      <td>product</td>\n",
       "      <td>NaN</td>\n",
       "      <td>0.0</td>\n",
       "    </tr>\n",
       "    <tr>\n",
       "      <th>4</th>\n",
       "      <td>19814</td>\n",
       "      <td>0</td>\n",
       "      <td>0</td>\n",
       "      <td>0</td>\n",
       "      <td>0.0</td>\n",
       "      <td>3.0</td>\n",
       "      <td>taxable</td>\n",
       "      <td>NaN</td>\n",
       "      <td>2.0</td>\n",
       "      <td>2018-02-09 14:01:05</td>\n",
       "      <td>2018-02-09 13:01:05</td>\n",
       "      <td>NaN</td>\n",
       "      <td>...</td>\n",
       "      <td>closed</td>\n",
       "      <td>NaN</td>\n",
       "      <td>pierre-jean-villa-igp-gamine-2018</td>\n",
       "      <td>2020-01-04 16:36:01</td>\n",
       "      <td>2020-01-04 15:36:01</td>\n",
       "      <td>NaN</td>\n",
       "      <td>0.0</td>\n",
       "      <td>https://www.bottle-neck.fr/?post_type=product&amp;...</td>\n",
       "      <td>0.0</td>\n",
       "      <td>product</td>\n",
       "      <td>NaN</td>\n",
       "      <td>0.0</td>\n",
       "    </tr>\n",
       "  </tbody>\n",
       "</table>\n",
       "<p>5 rows × 28 columns</p>\n",
       "</div>"
      ],
      "text/plain": [
       "                   sku  virtual  downloadable  rating_count  average_rating  \\\n",
       "0  bon-cadeau-25-euros        0             0             0             0.0   \n",
       "1                15298        0             0             0             0.0   \n",
       "2                15296        0             0             0             0.0   \n",
       "3                15300        0             0             0             0.0   \n",
       "4                19814        0             0             0             0.0   \n",
       "\n",
       "   total_sales tax_status  tax_class  post_author           post_date  \\\n",
       "0         10.0    taxable        NaN          1.0 2018-06-01 13:53:46   \n",
       "1          6.0    taxable        NaN          2.0 2018-02-08 12:58:52   \n",
       "2          0.0    taxable        NaN          2.0 2018-02-08 13:49:41   \n",
       "3          0.0    taxable        NaN          2.0 2018-02-08 14:08:36   \n",
       "4          3.0    taxable        NaN          2.0 2018-02-09 14:01:05   \n",
       "\n",
       "        post_date_gmt  post_content  ... ping_status post_password  \\\n",
       "0 2018-06-01 11:53:46           NaN  ...      closed           NaN   \n",
       "1 2018-02-08 11:58:52           NaN  ...      closed           NaN   \n",
       "2 2018-02-08 12:49:41           NaN  ...      closed           NaN   \n",
       "3 2018-02-08 13:08:36           NaN  ...      closed           NaN   \n",
       "4 2018-02-09 13:01:05           NaN  ...      closed           NaN   \n",
       "\n",
       "                                           post_name       post_modified  \\\n",
       "0                             bon-cadeau-de-25-euros 2018-06-01 14:13:57   \n",
       "1        pierre-jean-villa-saint-joseph-preface-2018 2019-12-30 09:30:29   \n",
       "2          pierre-jean-villa-saint-joseph-tilde-2017 2019-12-21 09:00:17   \n",
       "3  pierre-jean-villa-croze-hermitage-accroche-coe... 2020-06-26 18:15:03   \n",
       "4                  pierre-jean-villa-igp-gamine-2018 2020-01-04 16:36:01   \n",
       "\n",
       "    post_modified_gmt  post_content_filtered post_parent  \\\n",
       "0 2018-06-01 12:13:57                    NaN         0.0   \n",
       "1 2019-12-30 08:30:29                    NaN         0.0   \n",
       "2 2019-12-21 08:00:17                    NaN         0.0   \n",
       "3 2020-06-26 16:15:03                    NaN         0.0   \n",
       "4 2020-01-04 15:36:01                    NaN         0.0   \n",
       "\n",
       "                                                guid menu_order  post_type  \\\n",
       "0  https://www.bottle-neck.fr/?post_type=product&...        0.0    product   \n",
       "1  https://www.bottle-neck.fr/?post_type=product&...        0.0    product   \n",
       "2  https://www.bottle-neck.fr/?post_type=product&...        0.0    product   \n",
       "3  https://www.bottle-neck.fr/?post_type=product&...        0.0    product   \n",
       "4  https://www.bottle-neck.fr/?post_type=product&...        0.0    product   \n",
       "\n",
       "   post_mime_type comment_count  \n",
       "0             NaN           0.0  \n",
       "1             NaN           0.0  \n",
       "2             NaN           0.0  \n",
       "3             NaN           0.0  \n",
       "4             NaN           0.0  \n",
       "\n",
       "[5 rows x 28 columns]"
      ]
     },
     "execution_count": 86,
     "metadata": {},
     "output_type": "execute_result"
    }
   ],
   "source": [
    "df_web.head()"
   ]
  },
  {
   "cell_type": "markdown",
   "id": "b8b14a3d-e9f8-43dc-ae2c-979c8ed7d724",
   "metadata": {},
   "source": [
    "Renommage de la colonne sku en web_id pour faciliter ensuite les jointures ou autre comparaison"
   ]
  },
  {
   "cell_type": "code",
   "execution_count": 87,
   "id": "21284f6b-963a-4402-ac93-aac57aa78c9c",
   "metadata": {},
   "outputs": [
    {
     "data": {
      "text/html": [
       "<div>\n",
       "<style scoped>\n",
       "    .dataframe tbody tr th:only-of-type {\n",
       "        vertical-align: middle;\n",
       "    }\n",
       "\n",
       "    .dataframe tbody tr th {\n",
       "        vertical-align: top;\n",
       "    }\n",
       "\n",
       "    .dataframe thead th {\n",
       "        text-align: right;\n",
       "    }\n",
       "</style>\n",
       "<table border=\"1\" class=\"dataframe\">\n",
       "  <thead>\n",
       "    <tr style=\"text-align: right;\">\n",
       "      <th></th>\n",
       "      <th>web_id</th>\n",
       "      <th>virtual</th>\n",
       "      <th>downloadable</th>\n",
       "      <th>rating_count</th>\n",
       "      <th>average_rating</th>\n",
       "      <th>total_sales</th>\n",
       "      <th>tax_status</th>\n",
       "      <th>tax_class</th>\n",
       "      <th>post_author</th>\n",
       "      <th>post_date</th>\n",
       "      <th>post_date_gmt</th>\n",
       "      <th>post_content</th>\n",
       "      <th>...</th>\n",
       "      <th>ping_status</th>\n",
       "      <th>post_password</th>\n",
       "      <th>post_name</th>\n",
       "      <th>post_modified</th>\n",
       "      <th>post_modified_gmt</th>\n",
       "      <th>post_content_filtered</th>\n",
       "      <th>post_parent</th>\n",
       "      <th>guid</th>\n",
       "      <th>menu_order</th>\n",
       "      <th>post_type</th>\n",
       "      <th>post_mime_type</th>\n",
       "      <th>comment_count</th>\n",
       "    </tr>\n",
       "  </thead>\n",
       "  <tbody>\n",
       "    <tr>\n",
       "      <th>0</th>\n",
       "      <td>bon-cadeau-25-euros</td>\n",
       "      <td>0</td>\n",
       "      <td>0</td>\n",
       "      <td>0</td>\n",
       "      <td>0.0</td>\n",
       "      <td>10.0</td>\n",
       "      <td>taxable</td>\n",
       "      <td>NaN</td>\n",
       "      <td>1.0</td>\n",
       "      <td>2018-06-01 13:53:46</td>\n",
       "      <td>2018-06-01 11:53:46</td>\n",
       "      <td>NaN</td>\n",
       "      <td>...</td>\n",
       "      <td>closed</td>\n",
       "      <td>NaN</td>\n",
       "      <td>bon-cadeau-de-25-euros</td>\n",
       "      <td>2018-06-01 14:13:57</td>\n",
       "      <td>2018-06-01 12:13:57</td>\n",
       "      <td>NaN</td>\n",
       "      <td>0.0</td>\n",
       "      <td>https://www.bottle-neck.fr/?post_type=product&amp;...</td>\n",
       "      <td>0.0</td>\n",
       "      <td>product</td>\n",
       "      <td>NaN</td>\n",
       "      <td>0.0</td>\n",
       "    </tr>\n",
       "  </tbody>\n",
       "</table>\n",
       "<p>1 rows × 28 columns</p>\n",
       "</div>"
      ],
      "text/plain": [
       "                web_id  virtual  downloadable  rating_count  average_rating  \\\n",
       "0  bon-cadeau-25-euros        0             0             0             0.0   \n",
       "\n",
       "   total_sales tax_status  tax_class  post_author           post_date  \\\n",
       "0         10.0    taxable        NaN          1.0 2018-06-01 13:53:46   \n",
       "\n",
       "        post_date_gmt  post_content  ... ping_status post_password  \\\n",
       "0 2018-06-01 11:53:46           NaN  ...      closed           NaN   \n",
       "\n",
       "                post_name       post_modified   post_modified_gmt  \\\n",
       "0  bon-cadeau-de-25-euros 2018-06-01 14:13:57 2018-06-01 12:13:57   \n",
       "\n",
       "   post_content_filtered post_parent  \\\n",
       "0                    NaN         0.0   \n",
       "\n",
       "                                                guid menu_order  post_type  \\\n",
       "0  https://www.bottle-neck.fr/?post_type=product&...        0.0    product   \n",
       "\n",
       "   post_mime_type comment_count  \n",
       "0             NaN           0.0  \n",
       "\n",
       "[1 rows x 28 columns]"
      ]
     },
     "execution_count": 87,
     "metadata": {},
     "output_type": "execute_result"
    }
   ],
   "source": [
    "df_web.rename(columns={\"sku\":\"web_id\"}, inplace=True)\n",
    "df_web.head(1)"
   ]
  },
  {
   "cell_type": "code",
   "execution_count": 88,
   "id": "bb9dac30-3a04-4d78-9ebc-66067c512a5e",
   "metadata": {},
   "outputs": [
    {
     "data": {
      "text/plain": [
       "web_id                     85\n",
       "virtual                     0\n",
       "downloadable                0\n",
       "rating_count                0\n",
       "average_rating             83\n",
       "total_sales                83\n",
       "tax_status                797\n",
       "tax_class                1513\n",
       "post_author                83\n",
       "post_date                  83\n",
       "post_date_gmt              83\n",
       "post_content             1513\n",
       "post_title                 83\n",
       "post_excerpt              797\n",
       "post_status                83\n",
       "comment_status             83\n",
       "ping_status                83\n",
       "post_password            1513\n",
       "post_name                  83\n",
       "post_modified              83\n",
       "post_modified_gmt          83\n",
       "post_content_filtered    1513\n",
       "post_parent                83\n",
       "guid                       83\n",
       "menu_order                 83\n",
       "post_type                  83\n",
       "post_mime_type            799\n",
       "comment_count              83\n",
       "dtype: int64"
      ]
     },
     "execution_count": 88,
     "metadata": {},
     "output_type": "execute_result"
    }
   ],
   "source": [
    "df_web.isnull().sum() | df_web.isna().sum()"
   ]
  },
  {
   "cell_type": "markdown",
   "id": "1cfc47cd-7005-4b16-8d15-e092ece8201c",
   "metadata": {},
   "source": [
    "On peut supprimer les colonnes \n",
    "- tax_class\n",
    "- post_content\n",
    "- post_password\n",
    "- post_content_filtered\n",
    "\n",
    "qui ne contiennent aucune donnée sur la totalité des lignes. <br>\n",
    "\n",
    "Le paramètre how=all va nous permettre de supprimer toutes les colonnes si toutes les lignes sont vides."
   ]
  },
  {
   "cell_type": "code",
   "execution_count": 89,
   "id": "6a1f0dc3-ee99-4f96-95de-fc16260be9c5",
   "metadata": {},
   "outputs": [
    {
     "data": {
      "text/plain": [
       "(1513, 24)"
      ]
     },
     "execution_count": 89,
     "metadata": {},
     "output_type": "execute_result"
    }
   ],
   "source": [
    "df_web.dropna(axis=1, how=\"all\", inplace=True)\n",
    "df_web.shape"
   ]
  },
  {
   "cell_type": "code",
   "execution_count": 90,
   "id": "20abca77-5ec8-4ac4-be75-ff03917903b0",
   "metadata": {},
   "outputs": [
    {
     "data": {
      "text/plain": [
       "web_id                  0\n",
       "virtual              1513\n",
       "downloadable         1513\n",
       "rating_count         1513\n",
       "average_rating       1430\n",
       "total_sales           660\n",
       "tax_status              0\n",
       "post_author             0\n",
       "post_date               0\n",
       "post_date_gmt           0\n",
       "post_title              0\n",
       "post_excerpt            0\n",
       "post_status             0\n",
       "comment_status          0\n",
       "ping_status             0\n",
       "post_name               0\n",
       "post_modified           0\n",
       "post_modified_gmt       0\n",
       "post_parent          1430\n",
       "guid                    0\n",
       "menu_order           1430\n",
       "post_type               0\n",
       "post_mime_type          0\n",
       "comment_count        1430\n",
       "dtype: int64"
      ]
     },
     "execution_count": 90,
     "metadata": {},
     "output_type": "execute_result"
    }
   ],
   "source": [
    "(df_web==0).sum()"
   ]
  },
  {
   "cell_type": "markdown",
   "id": "a5de8e6a-f634-4077-8bf6-2900e389a8e4",
   "metadata": {},
   "source": [
    "Quelques colonnes ne contiennent que des valeurs à zéro.<br>\n",
    "D'autres ont un nombre de valeurs à zéro élevé et proche du total de lignes.<br>\n",
    "J'additionne les valeurs à zéro aux valeurs vides pour avoir un aperçu de ce que ça représente en totalité sur le nombre de lignes du fichier."
   ]
  },
  {
   "cell_type": "code",
   "execution_count": 91,
   "id": "c8c38514-5154-4c00-b556-b9357f3ae7e0",
   "metadata": {},
   "outputs": [
    {
     "data": {
      "text/plain": [
       "web_id                 85\n",
       "virtual              1513\n",
       "downloadable         1513\n",
       "rating_count         1513\n",
       "average_rating       1513\n",
       "total_sales           743\n",
       "tax_status            797\n",
       "post_author            83\n",
       "post_date              83\n",
       "post_date_gmt          83\n",
       "post_title             83\n",
       "post_excerpt          797\n",
       "post_status            83\n",
       "comment_status         83\n",
       "ping_status            83\n",
       "post_name              83\n",
       "post_modified          83\n",
       "post_modified_gmt      83\n",
       "post_parent          1513\n",
       "guid                   83\n",
       "menu_order           1513\n",
       "post_type              83\n",
       "post_mime_type        799\n",
       "comment_count        1513\n",
       "dtype: int64"
      ]
     },
     "execution_count": 91,
     "metadata": {},
     "output_type": "execute_result"
    }
   ],
   "source": [
    "((df_web==0).sum() + (df_web.isnull().sum() | df_web.isna().sum()))"
   ]
  },
  {
   "cell_type": "markdown",
   "id": "d857ec9b-73aa-4332-a587-241a3c9a5470",
   "metadata": {},
   "source": [
    "On se rend compte que 7 colonnes n'ont que des 0 ou du vide :\n",
    "- virtual\n",
    "- downloadable\n",
    "- rating_count\n",
    "- average_rating\n",
    "- post_parent\n",
    "- menu_order\n",
    "- comment_count<br>\n",
    "Ces colonnes sont donc inutiles et je les supprime."
   ]
  },
  {
   "cell_type": "code",
   "execution_count": 92,
   "id": "c00d48e4-e549-45a3-bf37-4d6f59479f7e",
   "metadata": {},
   "outputs": [
    {
     "data": {
      "text/plain": [
       "(1513, 17)"
      ]
     },
     "execution_count": 92,
     "metadata": {},
     "output_type": "execute_result"
    }
   ],
   "source": [
    "df_web.drop(columns={'virtual','downloadable','rating_count','average_rating','post_parent','menu_order','comment_count'}, inplace=True)\n",
    "df_web.shape"
   ]
  },
  {
   "cell_type": "markdown",
   "id": "22a94dce-77a5-48ce-a928-4785b61afe72",
   "metadata": {},
   "source": [
    "Si certaines lignes n'ont aucune donnée, je les supprime également.\n",
    "Je nettoie de la même manière que précédemment en utilisant l'axe 0, celui des lignes et avec la condition que toutes les colonnes de chaque ligne soient vides."
   ]
  },
  {
   "cell_type": "code",
   "execution_count": 93,
   "id": "27f282c5-cca2-43c9-9fee-246d8ffd3515",
   "metadata": {},
   "outputs": [
    {
     "data": {
      "text/plain": [
       "(1430, 17)"
      ]
     },
     "execution_count": 93,
     "metadata": {},
     "output_type": "execute_result"
    }
   ],
   "source": [
    "df_web.dropna(axis=0, how=\"all\", inplace=True)\n",
    "df_web.shape"
   ]
  },
  {
   "cell_type": "markdown",
   "id": "38379607-3594-4a48-8330-75ba10f980df",
   "metadata": {},
   "source": [
    "J'identifie les web_id vide pour les supprimer : je ne peux pas travailler sur les produits s'ils n'ont pas d'ID, je ne pourrai pas les rapprocher de la table erp."
   ]
  },
  {
   "cell_type": "code",
   "execution_count": 94,
   "id": "33f7941c-6a4b-41be-8e36-02278f7b2171",
   "metadata": {},
   "outputs": [
    {
     "data": {
      "text/html": [
       "<div>\n",
       "<style scoped>\n",
       "    .dataframe tbody tr th:only-of-type {\n",
       "        vertical-align: middle;\n",
       "    }\n",
       "\n",
       "    .dataframe tbody tr th {\n",
       "        vertical-align: top;\n",
       "    }\n",
       "\n",
       "    .dataframe thead th {\n",
       "        text-align: right;\n",
       "    }\n",
       "</style>\n",
       "<table border=\"1\" class=\"dataframe\">\n",
       "  <thead>\n",
       "    <tr style=\"text-align: right;\">\n",
       "      <th></th>\n",
       "      <th>web_id</th>\n",
       "      <th>total_sales</th>\n",
       "      <th>tax_status</th>\n",
       "      <th>post_author</th>\n",
       "      <th>post_date</th>\n",
       "      <th>post_date_gmt</th>\n",
       "      <th>post_title</th>\n",
       "      <th>post_excerpt</th>\n",
       "      <th>post_status</th>\n",
       "      <th>comment_status</th>\n",
       "      <th>ping_status</th>\n",
       "      <th>post_name</th>\n",
       "      <th>post_modified</th>\n",
       "      <th>post_modified_gmt</th>\n",
       "      <th>guid</th>\n",
       "      <th>post_type</th>\n",
       "      <th>post_mime_type</th>\n",
       "    </tr>\n",
       "  </thead>\n",
       "  <tbody>\n",
       "    <tr>\n",
       "      <th>470</th>\n",
       "      <td>NaN</td>\n",
       "      <td>0.0</td>\n",
       "      <td>taxable</td>\n",
       "      <td>2.0</td>\n",
       "      <td>2018-07-31 12:07:23</td>\n",
       "      <td>2018-07-31 10:07:23</td>\n",
       "      <td>Pierre Jean Villa Côte Rôtie Fongeant 2017</td>\n",
       "      <td>Fongeant 2017 explose sur un fruit brillant, p...</td>\n",
       "      <td>publish</td>\n",
       "      <td>closed</td>\n",
       "      <td>closed</td>\n",
       "      <td>pierre-jean-villa-cote-rotie-fongeant-2017</td>\n",
       "      <td>2019-11-02 13:24:15</td>\n",
       "      <td>2019-11-02 12:24:15</td>\n",
       "      <td>https://www.bottle-neck.fr/?post_type=product&amp;...</td>\n",
       "      <td>product</td>\n",
       "      <td>NaN</td>\n",
       "    </tr>\n",
       "    <tr>\n",
       "      <th>471</th>\n",
       "      <td>NaN</td>\n",
       "      <td>0.0</td>\n",
       "      <td>taxable</td>\n",
       "      <td>2.0</td>\n",
       "      <td>2018-08-08 11:23:43</td>\n",
       "      <td>2018-08-08 09:23:43</td>\n",
       "      <td>Pierre Jean Villa Condrieu Jardin Suspendu 2018</td>\n",
       "      <td>&lt;span id=\"u1194-83\"&gt;Le nez séduit par ses parf...</td>\n",
       "      <td>publish</td>\n",
       "      <td>closed</td>\n",
       "      <td>closed</td>\n",
       "      <td>pierre-jean-villa-condrieu-suspendu-2018</td>\n",
       "      <td>2019-11-02 13:24:01</td>\n",
       "      <td>2019-11-02 12:24:01</td>\n",
       "      <td>https://www.bottle-neck.fr/?post_type=product&amp;...</td>\n",
       "      <td>product</td>\n",
       "      <td>NaN</td>\n",
       "    </tr>\n",
       "  </tbody>\n",
       "</table>\n",
       "</div>"
      ],
      "text/plain": [
       "    web_id  total_sales tax_status  post_author           post_date  \\\n",
       "470    NaN          0.0    taxable          2.0 2018-07-31 12:07:23   \n",
       "471    NaN          0.0    taxable          2.0 2018-08-08 11:23:43   \n",
       "\n",
       "          post_date_gmt                                       post_title  \\\n",
       "470 2018-07-31 10:07:23       Pierre Jean Villa Côte Rôtie Fongeant 2017   \n",
       "471 2018-08-08 09:23:43  Pierre Jean Villa Condrieu Jardin Suspendu 2018   \n",
       "\n",
       "                                          post_excerpt post_status  \\\n",
       "470  Fongeant 2017 explose sur un fruit brillant, p...     publish   \n",
       "471  <span id=\"u1194-83\">Le nez séduit par ses parf...     publish   \n",
       "\n",
       "    comment_status ping_status                                   post_name  \\\n",
       "470         closed      closed  pierre-jean-villa-cote-rotie-fongeant-2017   \n",
       "471         closed      closed    pierre-jean-villa-condrieu-suspendu-2018   \n",
       "\n",
       "          post_modified   post_modified_gmt  \\\n",
       "470 2019-11-02 13:24:15 2019-11-02 12:24:15   \n",
       "471 2019-11-02 13:24:01 2019-11-02 12:24:01   \n",
       "\n",
       "                                                  guid post_type  \\\n",
       "470  https://www.bottle-neck.fr/?post_type=product&...   product   \n",
       "471  https://www.bottle-neck.fr/?post_type=product&...   product   \n",
       "\n",
       "    post_mime_type  \n",
       "470            NaN  \n",
       "471            NaN  "
      ]
     },
     "execution_count": 94,
     "metadata": {},
     "output_type": "execute_result"
    }
   ],
   "source": [
    "df_web[df_web.web_id.isna()]"
   ]
  },
  {
   "cell_type": "code",
   "execution_count": 95,
   "id": "c1f180b6-26a0-4836-82f6-e601bb35dcf4",
   "metadata": {},
   "outputs": [
    {
     "data": {
      "text/plain": [
       "(1428, 17)"
      ]
     },
     "execution_count": 95,
     "metadata": {},
     "output_type": "execute_result"
    }
   ],
   "source": [
    "df_web.drop(df_web[df_web.web_id.isna()].index, inplace=True)\n",
    "df_web.shape"
   ]
  },
  {
   "cell_type": "code",
   "execution_count": 96,
   "id": "a10f48dd-3d9b-4e26-97ba-450c64400ba0",
   "metadata": {},
   "outputs": [
    {
     "data": {
      "text/html": [
       "<div>\n",
       "<style scoped>\n",
       "    .dataframe tbody tr th:only-of-type {\n",
       "        vertical-align: middle;\n",
       "    }\n",
       "\n",
       "    .dataframe tbody tr th {\n",
       "        vertical-align: top;\n",
       "    }\n",
       "\n",
       "    .dataframe thead th {\n",
       "        text-align: right;\n",
       "    }\n",
       "</style>\n",
       "<table border=\"1\" class=\"dataframe\">\n",
       "  <thead>\n",
       "    <tr style=\"text-align: right;\">\n",
       "      <th></th>\n",
       "      <th>product_id</th>\n",
       "      <th>onsale_web</th>\n",
       "      <th>price</th>\n",
       "      <th>stock_quantity</th>\n",
       "      <th>stock_status</th>\n",
       "    </tr>\n",
       "  </thead>\n",
       "  <tbody>\n",
       "    <tr>\n",
       "      <th>820</th>\n",
       "      <td>7203</td>\n",
       "      <td>0</td>\n",
       "      <td>45.0</td>\n",
       "      <td>30</td>\n",
       "      <td>instock</td>\n",
       "    </tr>\n",
       "    <tr>\n",
       "      <th>821</th>\n",
       "      <td>7204</td>\n",
       "      <td>0</td>\n",
       "      <td>45.0</td>\n",
       "      <td>9</td>\n",
       "      <td>instock</td>\n",
       "    </tr>\n",
       "    <tr>\n",
       "      <th>822</th>\n",
       "      <td>7247</td>\n",
       "      <td>1</td>\n",
       "      <td>54.8</td>\n",
       "      <td>23</td>\n",
       "      <td>instock</td>\n",
       "    </tr>\n",
       "    <tr>\n",
       "      <th>823</th>\n",
       "      <td>7329</td>\n",
       "      <td>0</td>\n",
       "      <td>26.5</td>\n",
       "      <td>14</td>\n",
       "      <td>instock</td>\n",
       "    </tr>\n",
       "    <tr>\n",
       "      <th>824</th>\n",
       "      <td>7338</td>\n",
       "      <td>1</td>\n",
       "      <td>16.3</td>\n",
       "      <td>45</td>\n",
       "      <td>instock</td>\n",
       "    </tr>\n",
       "  </tbody>\n",
       "</table>\n",
       "</div>"
      ],
      "text/plain": [
       "     product_id  onsale_web  price  stock_quantity stock_status\n",
       "820        7203           0   45.0              30      instock\n",
       "821        7204           0   45.0               9      instock\n",
       "822        7247           1   54.8              23      instock\n",
       "823        7329           0   26.5              14      instock\n",
       "824        7338           1   16.3              45      instock"
      ]
     },
     "execution_count": 96,
     "metadata": {},
     "output_type": "execute_result"
    }
   ],
   "source": [
    "df_erp.tail()"
   ]
  },
  {
   "cell_type": "code",
   "execution_count": 97,
   "id": "28a0e757-e6e4-40de-b17d-0a3e53c85aec",
   "metadata": {},
   "outputs": [
    {
     "data": {
      "text/plain": [
       "product_id        0\n",
       "onsale_web        0\n",
       "price             0\n",
       "stock_quantity    0\n",
       "stock_status      0\n",
       "dtype: int64"
      ]
     },
     "execution_count": 97,
     "metadata": {},
     "output_type": "execute_result"
    }
   ],
   "source": [
    "df_erp.isnull().sum() | df_erp.isna().sum()"
   ]
  },
  {
   "cell_type": "code",
   "execution_count": 98,
   "id": "5f96e3e9-5a0d-43c1-89e9-25c1142e2f67",
   "metadata": {},
   "outputs": [
    {
     "data": {
      "text/plain": [
       "product_id          0\n",
       "onsale_web        108\n",
       "price               0\n",
       "stock_quantity    188\n",
       "stock_status        0\n",
       "dtype: int64"
      ]
     },
     "execution_count": 98,
     "metadata": {},
     "output_type": "execute_result"
    }
   ],
   "source": [
    "(df_erp==0).sum()"
   ]
  },
  {
   "cell_type": "code",
   "execution_count": 99,
   "id": "01046b0a-b350-48b0-b454-91598acac07c",
   "metadata": {},
   "outputs": [
    {
     "data": {
      "text/html": [
       "<div>\n",
       "<style scoped>\n",
       "    .dataframe tbody tr th:only-of-type {\n",
       "        vertical-align: middle;\n",
       "    }\n",
       "\n",
       "    .dataframe tbody tr th {\n",
       "        vertical-align: top;\n",
       "    }\n",
       "\n",
       "    .dataframe thead th {\n",
       "        text-align: right;\n",
       "    }\n",
       "</style>\n",
       "<table border=\"1\" class=\"dataframe\">\n",
       "  <thead>\n",
       "    <tr style=\"text-align: right;\">\n",
       "      <th></th>\n",
       "      <th>product_id</th>\n",
       "      <th>id_web</th>\n",
       "    </tr>\n",
       "  </thead>\n",
       "  <tbody>\n",
       "    <tr>\n",
       "      <th>820</th>\n",
       "      <td>7203</td>\n",
       "      <td>NaN</td>\n",
       "    </tr>\n",
       "    <tr>\n",
       "      <th>821</th>\n",
       "      <td>7204</td>\n",
       "      <td>NaN</td>\n",
       "    </tr>\n",
       "    <tr>\n",
       "      <th>822</th>\n",
       "      <td>7247</td>\n",
       "      <td>13127-1</td>\n",
       "    </tr>\n",
       "    <tr>\n",
       "      <th>823</th>\n",
       "      <td>7329</td>\n",
       "      <td>14680-1</td>\n",
       "    </tr>\n",
       "    <tr>\n",
       "      <th>824</th>\n",
       "      <td>7338</td>\n",
       "      <td>16230</td>\n",
       "    </tr>\n",
       "  </tbody>\n",
       "</table>\n",
       "</div>"
      ],
      "text/plain": [
       "     product_id   id_web\n",
       "820        7203      NaN\n",
       "821        7204      NaN\n",
       "822        7247  13127-1\n",
       "823        7329  14680-1\n",
       "824        7338    16230"
      ]
     },
     "execution_count": 99,
     "metadata": {},
     "output_type": "execute_result"
    }
   ],
   "source": [
    "df_liaison.tail()"
   ]
  },
  {
   "cell_type": "markdown",
   "id": "7764f963-434d-4721-9cbb-fd26f301ddfe",
   "metadata": {},
   "source": [
    "Renommage de la colonne id_web en web_id pour garder une normalisation du nommage des id"
   ]
  },
  {
   "cell_type": "code",
   "execution_count": 100,
   "id": "4cb2562e-1d8f-4b11-8de1-c1228d0ea922",
   "metadata": {},
   "outputs": [
    {
     "data": {
      "text/html": [
       "<div>\n",
       "<style scoped>\n",
       "    .dataframe tbody tr th:only-of-type {\n",
       "        vertical-align: middle;\n",
       "    }\n",
       "\n",
       "    .dataframe tbody tr th {\n",
       "        vertical-align: top;\n",
       "    }\n",
       "\n",
       "    .dataframe thead th {\n",
       "        text-align: right;\n",
       "    }\n",
       "</style>\n",
       "<table border=\"1\" class=\"dataframe\">\n",
       "  <thead>\n",
       "    <tr style=\"text-align: right;\">\n",
       "      <th></th>\n",
       "      <th>product_id</th>\n",
       "      <th>web_id</th>\n",
       "    </tr>\n",
       "  </thead>\n",
       "  <tbody>\n",
       "    <tr>\n",
       "      <th>824</th>\n",
       "      <td>7338</td>\n",
       "      <td>16230</td>\n",
       "    </tr>\n",
       "  </tbody>\n",
       "</table>\n",
       "</div>"
      ],
      "text/plain": [
       "     product_id web_id\n",
       "824        7338  16230"
      ]
     },
     "execution_count": 100,
     "metadata": {},
     "output_type": "execute_result"
    }
   ],
   "source": [
    "df_liaison.rename(columns={\"id_web\":\"web_id\"}, inplace=True)\n",
    "df_liaison.tail(1)"
   ]
  },
  {
   "cell_type": "code",
   "execution_count": 101,
   "id": "92db7377-d6b3-4656-92bb-821d9ccfd774",
   "metadata": {},
   "outputs": [
    {
     "data": {
      "text/plain": [
       "product_id    0\n",
       "web_id        0\n",
       "dtype: int64"
      ]
     },
     "execution_count": 101,
     "metadata": {},
     "output_type": "execute_result"
    }
   ],
   "source": [
    "(df_liaison==0).sum()"
   ]
  },
  {
   "cell_type": "code",
   "execution_count": 102,
   "id": "f9478f69-90bc-4914-a47c-639dedf42ced",
   "metadata": {},
   "outputs": [
    {
     "data": {
      "text/plain": [
       "product_id     0\n",
       "web_id        91\n",
       "dtype: int64"
      ]
     },
     "execution_count": 102,
     "metadata": {},
     "output_type": "execute_result"
    }
   ],
   "source": [
    "df_liaison.isnull().sum()  | df_liaison.isna().sum()"
   ]
  },
  {
   "cell_type": "markdown",
   "id": "cb85ef56-dc97-44fa-a369-6c3d7b5cd4f4",
   "metadata": {},
   "source": [
    "91 valeurs vides, ce qui veut dire que sur 91 produits, je ne pourrai pas faire la liaison entre les infos de l'erp et du web.<br>\n",
    "Ces valeurs sont donc inexploitables et il n'est pas nécessaire de les conserver."
   ]
  },
  {
   "cell_type": "code",
   "execution_count": 103,
   "id": "313c3c09-0f59-4285-87d5-9cdc2abd0cbc",
   "metadata": {},
   "outputs": [
    {
     "data": {
      "text/plain": [
       "(734, 2)"
      ]
     },
     "execution_count": 103,
     "metadata": {},
     "output_type": "execute_result"
    }
   ],
   "source": [
    "df_liaison.dropna(axis=0, how=\"any\", inplace=True)\n",
    "df_liaison.shape"
   ]
  },
  {
   "cell_type": "code",
   "execution_count": 104,
   "id": "5f9b4f1e-cfe6-4cfe-8b4c-415ff69804a0",
   "metadata": {},
   "outputs": [
    {
     "name": "stdout",
     "output_type": "stream",
     "text": [
      "Le fichier web contient 1428 lignes et 17 colonnes.\n",
      "Le fichier erp contient 825 lignes et 5 colonnes.\n",
      "Le fichier liaison contient 734 lignes et 2 colonnes.\n"
     ]
    }
   ],
   "source": [
    "# Nombre de lignes et colonnes par fichiers après modification\n",
    "print (f'Le fichier web contient {df_web.shape[0]} lignes et {df_web.shape[1]} colonnes.')\n",
    "print (f'Le fichier erp contient {df_erp.shape[0]} lignes et {df_erp.shape[1]} colonnes.')\n",
    "print (f'Le fichier liaison contient {df_liaison.shape[0]} lignes et {df_liaison.shape[1]} colonnes.')"
   ]
  },
  {
   "cell_type": "markdown",
   "id": "5487ecf9-8994-4b42-8443-3a9c206294c9",
   "metadata": {},
   "source": [
    "#### Conclusion\n",
    "**Fichier web** : Nous sommes passés de 1513 lignes et 28 colonnes à 1428 lignes et 17 colonnes.<br>\n",
    "**Fichier erp** : Pas de valeurs supprimées<br>\n",
    "**Fichier liaison** : 91 lignes supprimées<br>\n",
    "\n",
    "Nous sommes débarassés des valeurs manquantes ou à zéros inutiles."
   ]
  },
  {
   "cell_type": "markdown",
   "id": "a1e00072-2a16-4cd3-97e9-0c9a2bfafd20",
   "metadata": {
    "tags": []
   },
   "source": [
    "### Type de données\n",
    "\n",
    "Je vérifie si le type de chaque colonne des 3 fichiers est cohérent et apporte les modifications jugées nécessaires.<br>"
   ]
  },
  {
   "cell_type": "code",
   "execution_count": 105,
   "id": "3eff2cb8-b77d-492f-b182-496a9379521c",
   "metadata": {},
   "outputs": [
    {
     "data": {
      "text/plain": [
       "web_id                       object\n",
       "total_sales                 float64\n",
       "tax_status                   object\n",
       "post_author                 float64\n",
       "post_date            datetime64[ns]\n",
       "post_date_gmt        datetime64[ns]\n",
       "post_title                   object\n",
       "post_excerpt                 object\n",
       "post_status                  object\n",
       "comment_status               object\n",
       "ping_status                  object\n",
       "post_name                    object\n",
       "post_modified        datetime64[ns]\n",
       "post_modified_gmt    datetime64[ns]\n",
       "guid                         object\n",
       "post_type                    object\n",
       "post_mime_type               object\n",
       "dtype: object"
      ]
     },
     "execution_count": 105,
     "metadata": {},
     "output_type": "execute_result"
    }
   ],
   "source": [
    "df_web.dtypes"
   ]
  },
  {
   "cell_type": "code",
   "execution_count": 106,
   "id": "b31dcfed-0323-4674-80d4-883bcdc719eb",
   "metadata": {},
   "outputs": [
    {
     "data": {
      "text/plain": [
       "product_id          int64\n",
       "onsale_web          int64\n",
       "price             float64\n",
       "stock_quantity      int64\n",
       "stock_status       object\n",
       "dtype: object"
      ]
     },
     "execution_count": 106,
     "metadata": {},
     "output_type": "execute_result"
    }
   ],
   "source": [
    "df_erp.dtypes"
   ]
  },
  {
   "cell_type": "code",
   "execution_count": 107,
   "id": "5c56dfee-ab16-4966-8300-200b7ec44807",
   "metadata": {},
   "outputs": [
    {
     "data": {
      "text/plain": [
       "product_id     int64\n",
       "web_id        object\n",
       "dtype: object"
      ]
     },
     "execution_count": 107,
     "metadata": {},
     "output_type": "execute_result"
    }
   ],
   "source": [
    "df_liaison.dtypes"
   ]
  },
  {
   "cell_type": "markdown",
   "id": "4d3140ba-8941-47dd-b866-6cc01cd0ae10",
   "metadata": {},
   "source": [
    "Je souhaite modifier le type de la colonne product_id en string, car c'est le type de la colonne web_id. Changer la colonne product_id en string plutôt que web_id en int permet d'éviter de changer la valeur des données présentes dans web_id : <br>\n",
    "**bon-cadeau-25-euros** et **13127-1** auraient dû être modifiés par exemple.<br>\n",
    "\n",
    "Je convertis aussi web_id en string car le mélange d'int et de str me bloque pour des tris.<br>"
   ]
  },
  {
   "cell_type": "code",
   "execution_count": 108,
   "id": "843af702-ec21-4bf1-ade5-d563063ccab1",
   "metadata": {},
   "outputs": [],
   "source": [
    "df_liaison.product_id=df_liaison.product_id.astype('str')\n",
    "df_liaison.web_id=df_liaison.web_id.astype('str')\n",
    "df_erp.product_id=df_erp.product_id.astype('str')\n",
    "df_web.web_id=df_web.web_id.astype('str')"
   ]
  },
  {
   "cell_type": "markdown",
   "id": "d7eaa929-9e21-4fbb-929d-4d6bb909514a",
   "metadata": {},
   "source": [
    "### Évenutels doublons"
   ]
  },
  {
   "cell_type": "code",
   "execution_count": 109,
   "id": "4aaa02c4-fd8c-4cf1-a5ee-b4cf0be7684c",
   "metadata": {},
   "outputs": [
    {
     "data": {
      "text/html": [
       "<div>\n",
       "<style scoped>\n",
       "    .dataframe tbody tr th:only-of-type {\n",
       "        vertical-align: middle;\n",
       "    }\n",
       "\n",
       "    .dataframe tbody tr th {\n",
       "        vertical-align: top;\n",
       "    }\n",
       "\n",
       "    .dataframe thead th {\n",
       "        text-align: right;\n",
       "    }\n",
       "</style>\n",
       "<table border=\"1\" class=\"dataframe\">\n",
       "  <thead>\n",
       "    <tr style=\"text-align: right;\">\n",
       "      <th></th>\n",
       "      <th>product_id</th>\n",
       "      <th>onsale_web</th>\n",
       "      <th>price</th>\n",
       "      <th>stock_quantity</th>\n",
       "      <th>stock_status</th>\n",
       "    </tr>\n",
       "  </thead>\n",
       "  <tbody>\n",
       "  </tbody>\n",
       "</table>\n",
       "</div>"
      ],
      "text/plain": [
       "Empty DataFrame\n",
       "Columns: [product_id, onsale_web, price, stock_quantity, stock_status]\n",
       "Index: []"
      ]
     },
     "execution_count": 109,
     "metadata": {},
     "output_type": "execute_result"
    }
   ],
   "source": [
    "df_erp.loc[df_erp[\"product_id\"].duplicated(keep=False),:]"
   ]
  },
  {
   "cell_type": "code",
   "execution_count": 110,
   "id": "1735bd61-d769-4bce-b65b-22a904fbeabc",
   "metadata": {},
   "outputs": [
    {
     "data": {
      "text/html": [
       "<div>\n",
       "<style scoped>\n",
       "    .dataframe tbody tr th:only-of-type {\n",
       "        vertical-align: middle;\n",
       "    }\n",
       "\n",
       "    .dataframe tbody tr th {\n",
       "        vertical-align: top;\n",
       "    }\n",
       "\n",
       "    .dataframe thead th {\n",
       "        text-align: right;\n",
       "    }\n",
       "</style>\n",
       "<table border=\"1\" class=\"dataframe\">\n",
       "  <thead>\n",
       "    <tr style=\"text-align: right;\">\n",
       "      <th></th>\n",
       "      <th>web_id</th>\n",
       "      <th>total_sales</th>\n",
       "      <th>tax_status</th>\n",
       "      <th>post_author</th>\n",
       "      <th>post_date</th>\n",
       "      <th>post_date_gmt</th>\n",
       "      <th>post_title</th>\n",
       "      <th>post_excerpt</th>\n",
       "      <th>post_status</th>\n",
       "      <th>comment_status</th>\n",
       "      <th>ping_status</th>\n",
       "      <th>post_name</th>\n",
       "      <th>post_modified</th>\n",
       "      <th>post_modified_gmt</th>\n",
       "      <th>guid</th>\n",
       "      <th>post_type</th>\n",
       "      <th>post_mime_type</th>\n",
       "    </tr>\n",
       "  </thead>\n",
       "  <tbody>\n",
       "    <tr>\n",
       "      <th>0</th>\n",
       "      <td>bon-cadeau-25-euros</td>\n",
       "      <td>10.0</td>\n",
       "      <td>taxable</td>\n",
       "      <td>1.0</td>\n",
       "      <td>2018-06-01 13:53:46</td>\n",
       "      <td>2018-06-01 11:53:46</td>\n",
       "      <td>Bon cadeau de 25€</td>\n",
       "      <td>&lt;span style=\"color: #a85253;\"&gt;&lt;strong&gt;Parlons ...</td>\n",
       "      <td>publish</td>\n",
       "      <td>closed</td>\n",
       "      <td>closed</td>\n",
       "      <td>bon-cadeau-de-25-euros</td>\n",
       "      <td>2018-06-01 14:13:57</td>\n",
       "      <td>2018-06-01 12:13:57</td>\n",
       "      <td>https://www.bottle-neck.fr/?post_type=product&amp;...</td>\n",
       "      <td>product</td>\n",
       "      <td>NaN</td>\n",
       "    </tr>\n",
       "    <tr>\n",
       "      <th>1209</th>\n",
       "      <td>bon-cadeau-25-euros</td>\n",
       "      <td>10.0</td>\n",
       "      <td>NaN</td>\n",
       "      <td>1.0</td>\n",
       "      <td>2018-06-01 13:53:46</td>\n",
       "      <td>2018-06-01 11:53:46</td>\n",
       "      <td>Bon cadeau de 25€</td>\n",
       "      <td>NaN</td>\n",
       "      <td>publish</td>\n",
       "      <td>closed</td>\n",
       "      <td>closed</td>\n",
       "      <td>bon-cadeau-de-25-euros</td>\n",
       "      <td>2018-06-01 14:13:57</td>\n",
       "      <td>2018-06-01 12:13:57</td>\n",
       "      <td>https://www.bottle-neck.fr/wp-content/uploads/...</td>\n",
       "      <td>attachment</td>\n",
       "      <td>image/jpeg</td>\n",
       "    </tr>\n",
       "    <tr>\n",
       "      <th>1201</th>\n",
       "      <td>9937</td>\n",
       "      <td>4.0</td>\n",
       "      <td>NaN</td>\n",
       "      <td>2.0</td>\n",
       "      <td>2018-05-17 12:55:13</td>\n",
       "      <td>2018-05-17 10:55:13</td>\n",
       "      <td>Marcel Richaud Cairanne Rouge Les Estrambords ...</td>\n",
       "      <td>NaN</td>\n",
       "      <td>publish</td>\n",
       "      <td>closed</td>\n",
       "      <td>closed</td>\n",
       "      <td>marcel-richaud-cairanne-rouge-les-estrambords-...</td>\n",
       "      <td>2019-06-26 09:32:25</td>\n",
       "      <td>2019-06-26 07:32:25</td>\n",
       "      <td>https://www.bottle-neck.fr/wp-content/uploads/...</td>\n",
       "      <td>attachment</td>\n",
       "      <td>image/jpeg</td>\n",
       "    </tr>\n",
       "    <tr>\n",
       "      <th>422</th>\n",
       "      <td>9937</td>\n",
       "      <td>4.0</td>\n",
       "      <td>taxable</td>\n",
       "      <td>2.0</td>\n",
       "      <td>2018-05-17 12:55:13</td>\n",
       "      <td>2018-05-17 10:55:13</td>\n",
       "      <td>Marcel Richaud Cairanne Rouge Les Estrambords ...</td>\n",
       "      <td>Un vin généreux, profond et intense. Les notes...</td>\n",
       "      <td>publish</td>\n",
       "      <td>closed</td>\n",
       "      <td>closed</td>\n",
       "      <td>marcel-richaud-cairanne-rouge-les-estrambords-...</td>\n",
       "      <td>2019-06-26 09:32:25</td>\n",
       "      <td>2019-06-26 07:32:25</td>\n",
       "      <td>https://www.bottle-neck.fr/?post_type=product&amp;...</td>\n",
       "      <td>product</td>\n",
       "      <td>NaN</td>\n",
       "    </tr>\n",
       "    <tr>\n",
       "      <th>215</th>\n",
       "      <td>9636</td>\n",
       "      <td>0.0</td>\n",
       "      <td>taxable</td>\n",
       "      <td>2.0</td>\n",
       "      <td>2018-03-22 10:44:57</td>\n",
       "      <td>2018-03-22 09:44:57</td>\n",
       "      <td>Wemyss Malts Blended Malt Scotch Whisky The Hi...</td>\n",
       "      <td>The Hive est un assemblage de malts du Speysid...</td>\n",
       "      <td>publish</td>\n",
       "      <td>closed</td>\n",
       "      <td>closed</td>\n",
       "      <td>whisky-wemyss-the-hive-12-ans</td>\n",
       "      <td>2020-08-19 17:45:03</td>\n",
       "      <td>2020-08-19 15:45:03</td>\n",
       "      <td>https://www.bottle-neck.fr/?post_type=product&amp;...</td>\n",
       "      <td>product</td>\n",
       "      <td>NaN</td>\n",
       "    </tr>\n",
       "    <tr>\n",
       "      <th>1011</th>\n",
       "      <td>9636</td>\n",
       "      <td>0.0</td>\n",
       "      <td>NaN</td>\n",
       "      <td>2.0</td>\n",
       "      <td>2018-03-22 10:44:57</td>\n",
       "      <td>2018-03-22 09:44:57</td>\n",
       "      <td>Wemyss Malts Blended Malt Scotch Whisky The Hi...</td>\n",
       "      <td>NaN</td>\n",
       "      <td>publish</td>\n",
       "      <td>closed</td>\n",
       "      <td>closed</td>\n",
       "      <td>whisky-wemyss-the-hive-12-ans</td>\n",
       "      <td>2020-08-19 17:45:03</td>\n",
       "      <td>2020-08-19 15:45:03</td>\n",
       "      <td>https://www.bottle-neck.fr/wp-content/uploads/...</td>\n",
       "      <td>attachment</td>\n",
       "      <td>image/jpeg</td>\n",
       "    </tr>\n",
       "  </tbody>\n",
       "</table>\n",
       "</div>"
      ],
      "text/plain": [
       "                   web_id  total_sales tax_status  post_author  \\\n",
       "0     bon-cadeau-25-euros         10.0    taxable          1.0   \n",
       "1209  bon-cadeau-25-euros         10.0        NaN          1.0   \n",
       "1201                 9937          4.0        NaN          2.0   \n",
       "422                  9937          4.0    taxable          2.0   \n",
       "215                  9636          0.0    taxable          2.0   \n",
       "1011                 9636          0.0        NaN          2.0   \n",
       "\n",
       "               post_date       post_date_gmt  \\\n",
       "0    2018-06-01 13:53:46 2018-06-01 11:53:46   \n",
       "1209 2018-06-01 13:53:46 2018-06-01 11:53:46   \n",
       "1201 2018-05-17 12:55:13 2018-05-17 10:55:13   \n",
       "422  2018-05-17 12:55:13 2018-05-17 10:55:13   \n",
       "215  2018-03-22 10:44:57 2018-03-22 09:44:57   \n",
       "1011 2018-03-22 10:44:57 2018-03-22 09:44:57   \n",
       "\n",
       "                                             post_title  \\\n",
       "0                                     Bon cadeau de 25€   \n",
       "1209                                  Bon cadeau de 25€   \n",
       "1201  Marcel Richaud Cairanne Rouge Les Estrambords ...   \n",
       "422   Marcel Richaud Cairanne Rouge Les Estrambords ...   \n",
       "215   Wemyss Malts Blended Malt Scotch Whisky The Hi...   \n",
       "1011  Wemyss Malts Blended Malt Scotch Whisky The Hi...   \n",
       "\n",
       "                                           post_excerpt post_status  \\\n",
       "0     <span style=\"color: #a85253;\"><strong>Parlons ...     publish   \n",
       "1209                                                NaN     publish   \n",
       "1201                                                NaN     publish   \n",
       "422   Un vin généreux, profond et intense. Les notes...     publish   \n",
       "215   The Hive est un assemblage de malts du Speysid...     publish   \n",
       "1011                                                NaN     publish   \n",
       "\n",
       "     comment_status ping_status  \\\n",
       "0            closed      closed   \n",
       "1209         closed      closed   \n",
       "1201         closed      closed   \n",
       "422          closed      closed   \n",
       "215          closed      closed   \n",
       "1011         closed      closed   \n",
       "\n",
       "                                              post_name       post_modified  \\\n",
       "0                                bon-cadeau-de-25-euros 2018-06-01 14:13:57   \n",
       "1209                             bon-cadeau-de-25-euros 2018-06-01 14:13:57   \n",
       "1201  marcel-richaud-cairanne-rouge-les-estrambords-... 2019-06-26 09:32:25   \n",
       "422   marcel-richaud-cairanne-rouge-les-estrambords-... 2019-06-26 09:32:25   \n",
       "215                       whisky-wemyss-the-hive-12-ans 2020-08-19 17:45:03   \n",
       "1011                      whisky-wemyss-the-hive-12-ans 2020-08-19 17:45:03   \n",
       "\n",
       "       post_modified_gmt                                               guid  \\\n",
       "0    2018-06-01 12:13:57  https://www.bottle-neck.fr/?post_type=product&...   \n",
       "1209 2018-06-01 12:13:57  https://www.bottle-neck.fr/wp-content/uploads/...   \n",
       "1201 2019-06-26 07:32:25  https://www.bottle-neck.fr/wp-content/uploads/...   \n",
       "422  2019-06-26 07:32:25  https://www.bottle-neck.fr/?post_type=product&...   \n",
       "215  2020-08-19 15:45:03  https://www.bottle-neck.fr/?post_type=product&...   \n",
       "1011 2020-08-19 15:45:03  https://www.bottle-neck.fr/wp-content/uploads/...   \n",
       "\n",
       "       post_type post_mime_type  \n",
       "0        product            NaN  \n",
       "1209  attachment     image/jpeg  \n",
       "1201  attachment     image/jpeg  \n",
       "422      product            NaN  \n",
       "215      product            NaN  \n",
       "1011  attachment     image/jpeg  "
      ]
     },
     "execution_count": 110,
     "metadata": {},
     "output_type": "execute_result"
    }
   ],
   "source": [
    "df_web.sort_values('web_id', ascending=False, inplace=True)\n",
    "df_web[\"web_id\"].duplicated()\n",
    "df_web.head(6)"
   ]
  },
  {
   "cell_type": "markdown",
   "id": "e38f8acd-3d5b-4511-b5b6-e472c4a9cb06",
   "metadata": {},
   "source": [
    "On voit que le web_id est toujours en double. Il faut chercher une colonne supplémentaire pour isoler de vrais doublons.<br>\n",
    "J'utilise le post_type qui différencie le lien du produit et son image"
   ]
  },
  {
   "cell_type": "code",
   "execution_count": 111,
   "id": "545dfaac-3581-4ab7-8352-547f22f39154",
   "metadata": {},
   "outputs": [
    {
     "data": {
      "text/html": [
       "<div>\n",
       "<style scoped>\n",
       "    .dataframe tbody tr th:only-of-type {\n",
       "        vertical-align: middle;\n",
       "    }\n",
       "\n",
       "    .dataframe tbody tr th {\n",
       "        vertical-align: top;\n",
       "    }\n",
       "\n",
       "    .dataframe thead th {\n",
       "        text-align: right;\n",
       "    }\n",
       "</style>\n",
       "<table border=\"1\" class=\"dataframe\">\n",
       "  <thead>\n",
       "    <tr style=\"text-align: right;\">\n",
       "      <th></th>\n",
       "      <th>web_id</th>\n",
       "      <th>total_sales</th>\n",
       "      <th>tax_status</th>\n",
       "      <th>post_author</th>\n",
       "      <th>post_date</th>\n",
       "      <th>post_date_gmt</th>\n",
       "      <th>post_title</th>\n",
       "      <th>post_excerpt</th>\n",
       "      <th>post_status</th>\n",
       "      <th>comment_status</th>\n",
       "      <th>ping_status</th>\n",
       "      <th>post_name</th>\n",
       "      <th>post_modified</th>\n",
       "      <th>post_modified_gmt</th>\n",
       "      <th>guid</th>\n",
       "      <th>post_type</th>\n",
       "      <th>post_mime_type</th>\n",
       "    </tr>\n",
       "  </thead>\n",
       "  <tbody>\n",
       "  </tbody>\n",
       "</table>\n",
       "</div>"
      ],
      "text/plain": [
       "Empty DataFrame\n",
       "Columns: [web_id, total_sales, tax_status, post_author, post_date, post_date_gmt, post_title, post_excerpt, post_status, comment_status, ping_status, post_name, post_modified, post_modified_gmt, guid, post_type, post_mime_type]\n",
       "Index: []"
      ]
     },
     "execution_count": 111,
     "metadata": {},
     "output_type": "execute_result"
    }
   ],
   "source": [
    "df_web[df_web.duplicated(keep=False, subset=[\"web_id\", \"post_type\"])]"
   ]
  },
  {
   "cell_type": "markdown",
   "id": "deb2e995-3db0-47d1-b6d5-2151a473a9b5",
   "metadata": {},
   "source": [
    "Je vérifie qu'il y a autant de ligne avec la valeur *product* qu'avec *management*.<br>\n",
    "Si le compteur est identique, je supprime toutes les lignes avec la valeur \"attachement\" sinon, lors du merge, je vais récupérer des informations en double, dont le prix, le stock,...ce qui va fausser les calculs."
   ]
  },
  {
   "cell_type": "code",
   "execution_count": 112,
   "id": "6211788d-fb1f-4dcd-b58b-db38320aad4b",
   "metadata": {},
   "outputs": [
    {
     "data": {
      "text/plain": [
       "product       714\n",
       "attachment    714\n",
       "Name: post_type, dtype: int64"
      ]
     },
     "execution_count": 112,
     "metadata": {},
     "output_type": "execute_result"
    }
   ],
   "source": [
    "check_post_type=df_web.post_type.value_counts()\n",
    "check_post_type"
   ]
  },
  {
   "cell_type": "markdown",
   "id": "d0aa2824-ce30-4249-ac21-d45fad02af11",
   "metadata": {},
   "source": [
    "Classement par web_id et post_type pour toujours avoir le *attachement* avant le *product*"
   ]
  },
  {
   "cell_type": "code",
   "execution_count": 113,
   "id": "f56c2170-393e-4149-9923-21513c515cf4",
   "metadata": {},
   "outputs": [
    {
     "data": {
      "text/html": [
       "<div>\n",
       "<style scoped>\n",
       "    .dataframe tbody tr th:only-of-type {\n",
       "        vertical-align: middle;\n",
       "    }\n",
       "\n",
       "    .dataframe tbody tr th {\n",
       "        vertical-align: top;\n",
       "    }\n",
       "\n",
       "    .dataframe thead th {\n",
       "        text-align: right;\n",
       "    }\n",
       "</style>\n",
       "<table border=\"1\" class=\"dataframe\">\n",
       "  <thead>\n",
       "    <tr style=\"text-align: right;\">\n",
       "      <th></th>\n",
       "      <th>web_id</th>\n",
       "      <th>total_sales</th>\n",
       "      <th>tax_status</th>\n",
       "      <th>post_author</th>\n",
       "      <th>post_date</th>\n",
       "      <th>post_date_gmt</th>\n",
       "      <th>post_title</th>\n",
       "      <th>post_excerpt</th>\n",
       "      <th>post_status</th>\n",
       "      <th>comment_status</th>\n",
       "      <th>ping_status</th>\n",
       "      <th>post_name</th>\n",
       "      <th>post_modified</th>\n",
       "      <th>post_modified_gmt</th>\n",
       "      <th>guid</th>\n",
       "      <th>post_type</th>\n",
       "      <th>post_mime_type</th>\n",
       "    </tr>\n",
       "  </thead>\n",
       "  <tbody>\n",
       "    <tr>\n",
       "      <th>1399</th>\n",
       "      <td>10014</td>\n",
       "      <td>0.0</td>\n",
       "      <td>NaN</td>\n",
       "      <td>2.0</td>\n",
       "      <td>2019-04-04 15:45:23</td>\n",
       "      <td>2019-04-04 13:45:23</td>\n",
       "      <td>Darnley's London Dry Gin Original</td>\n",
       "      <td>NaN</td>\n",
       "      <td>publish</td>\n",
       "      <td>closed</td>\n",
       "      <td>closed</td>\n",
       "      <td>darnleys-london-dry-gin-original</td>\n",
       "      <td>2020-08-26 15:55:02</td>\n",
       "      <td>2020-08-26 13:55:02</td>\n",
       "      <td>https://www.bottle-neck.fr/wp-content/uploads/...</td>\n",
       "      <td>attachment</td>\n",
       "      <td>image/jpeg</td>\n",
       "    </tr>\n",
       "    <tr>\n",
       "      <th>628</th>\n",
       "      <td>10014</td>\n",
       "      <td>0.0</td>\n",
       "      <td>taxable</td>\n",
       "      <td>2.0</td>\n",
       "      <td>2019-04-04 15:45:23</td>\n",
       "      <td>2019-04-04 13:45:23</td>\n",
       "      <td>Darnley's London Dry Gin Original</td>\n",
       "      <td>&lt;span title=\"\"&gt;Un gin léger, floral et aromati...</td>\n",
       "      <td>publish</td>\n",
       "      <td>closed</td>\n",
       "      <td>closed</td>\n",
       "      <td>darnleys-london-dry-gin-original</td>\n",
       "      <td>2020-08-26 15:55:02</td>\n",
       "      <td>2020-08-26 13:55:02</td>\n",
       "      <td>https://www.bottle-neck.fr/?post_type=product&amp;...</td>\n",
       "      <td>product</td>\n",
       "      <td>NaN</td>\n",
       "    </tr>\n",
       "  </tbody>\n",
       "</table>\n",
       "</div>"
      ],
      "text/plain": [
       "     web_id  total_sales tax_status  post_author           post_date  \\\n",
       "1399  10014          0.0        NaN          2.0 2019-04-04 15:45:23   \n",
       "628   10014          0.0    taxable          2.0 2019-04-04 15:45:23   \n",
       "\n",
       "           post_date_gmt                         post_title  \\\n",
       "1399 2019-04-04 13:45:23  Darnley's London Dry Gin Original   \n",
       "628  2019-04-04 13:45:23  Darnley's London Dry Gin Original   \n",
       "\n",
       "                                           post_excerpt post_status  \\\n",
       "1399                                                NaN     publish   \n",
       "628   <span title=\"\">Un gin léger, floral et aromati...     publish   \n",
       "\n",
       "     comment_status ping_status                         post_name  \\\n",
       "1399         closed      closed  darnleys-london-dry-gin-original   \n",
       "628          closed      closed  darnleys-london-dry-gin-original   \n",
       "\n",
       "           post_modified   post_modified_gmt  \\\n",
       "1399 2020-08-26 15:55:02 2020-08-26 13:55:02   \n",
       "628  2020-08-26 15:55:02 2020-08-26 13:55:02   \n",
       "\n",
       "                                                   guid   post_type  \\\n",
       "1399  https://www.bottle-neck.fr/wp-content/uploads/...  attachment   \n",
       "628   https://www.bottle-neck.fr/?post_type=product&...     product   \n",
       "\n",
       "     post_mime_type  \n",
       "1399     image/jpeg  \n",
       "628             NaN  "
      ]
     },
     "execution_count": 113,
     "metadata": {},
     "output_type": "execute_result"
    }
   ],
   "source": [
    "df_web.sort_values(by=[\"web_id\",\"post_type\"],ascending=True, inplace=True)\n",
    "df_web.head(2)"
   ]
  },
  {
   "cell_type": "code",
   "execution_count": 114,
   "id": "8cae2b33-6ae0-4a19-940a-b9f29dc12631",
   "metadata": {},
   "outputs": [],
   "source": [
    "df_web.drop_duplicates(subset=[\"web_id\"],keep=\"last\", inplace=True)"
   ]
  },
  {
   "cell_type": "code",
   "execution_count": 115,
   "id": "dc05dc6c-21c9-4636-81cf-4c835a0e9340",
   "metadata": {},
   "outputs": [
    {
     "name": "stdout",
     "output_type": "stream",
     "text": [
      "Il reste 714 lignes et 17 colonnes.\n"
     ]
    }
   ],
   "source": [
    "print (f'Il reste {df_web.shape[0]} lignes et {df_web.shape[1]} colonnes.')"
   ]
  },
  {
   "cell_type": "markdown",
   "id": "7991185e-7b19-4cf2-89b9-dbcb68e6d91f",
   "metadata": {},
   "source": [
    "#### Conclusion\n",
    "A priori, il n'y avait pas de réels doublon, mais j'ai supprimé toutes les lignes ayant le même ID avec un post_type différent. Il ne reste plus que des ID uniques dans le fichier web."
   ]
  },
  {
   "cell_type": "markdown",
   "id": "41db699d-cd40-449e-84b8-dd63b819b202",
   "metadata": {},
   "source": [
    "### Check global\n",
    "Je regarde rapidement via un .describe(all) (pour avoir les variables quantitatives (pas de paramètres) et les variables qualitatives (include=\"O\")) si je vois des anomalies dans les extrêmes."
   ]
  },
  {
   "cell_type": "code",
   "execution_count": 116,
   "id": "d0b92b97-1237-46d7-8917-3697a5b5d0bd",
   "metadata": {},
   "outputs": [
    {
     "data": {
      "text/html": [
       "<div>\n",
       "<style scoped>\n",
       "    .dataframe tbody tr th:only-of-type {\n",
       "        vertical-align: middle;\n",
       "    }\n",
       "\n",
       "    .dataframe tbody tr th {\n",
       "        vertical-align: top;\n",
       "    }\n",
       "\n",
       "    .dataframe thead th {\n",
       "        text-align: right;\n",
       "    }\n",
       "</style>\n",
       "<table border=\"1\" class=\"dataframe\">\n",
       "  <thead>\n",
       "    <tr style=\"text-align: right;\">\n",
       "      <th></th>\n",
       "      <th>product_id</th>\n",
       "      <th>onsale_web</th>\n",
       "      <th>price</th>\n",
       "      <th>stock_quantity</th>\n",
       "      <th>stock_status</th>\n",
       "    </tr>\n",
       "  </thead>\n",
       "  <tbody>\n",
       "    <tr>\n",
       "      <th>count</th>\n",
       "      <td>825</td>\n",
       "      <td>825.000000</td>\n",
       "      <td>825.000000</td>\n",
       "      <td>825.000000</td>\n",
       "      <td>825</td>\n",
       "    </tr>\n",
       "    <tr>\n",
       "      <th>unique</th>\n",
       "      <td>825</td>\n",
       "      <td>NaN</td>\n",
       "      <td>NaN</td>\n",
       "      <td>NaN</td>\n",
       "      <td>2</td>\n",
       "    </tr>\n",
       "    <tr>\n",
       "      <th>top</th>\n",
       "      <td>3847</td>\n",
       "      <td>NaN</td>\n",
       "      <td>NaN</td>\n",
       "      <td>NaN</td>\n",
       "      <td>instock</td>\n",
       "    </tr>\n",
       "    <tr>\n",
       "      <th>freq</th>\n",
       "      <td>1</td>\n",
       "      <td>NaN</td>\n",
       "      <td>NaN</td>\n",
       "      <td>NaN</td>\n",
       "      <td>638</td>\n",
       "    </tr>\n",
       "    <tr>\n",
       "      <th>mean</th>\n",
       "      <td>NaN</td>\n",
       "      <td>0.869091</td>\n",
       "      <td>32.415636</td>\n",
       "      <td>26.496970</td>\n",
       "      <td>NaN</td>\n",
       "    </tr>\n",
       "    <tr>\n",
       "      <th>std</th>\n",
       "      <td>NaN</td>\n",
       "      <td>0.337506</td>\n",
       "      <td>26.795849</td>\n",
       "      <td>45.892422</td>\n",
       "      <td>NaN</td>\n",
       "    </tr>\n",
       "    <tr>\n",
       "      <th>min</th>\n",
       "      <td>NaN</td>\n",
       "      <td>0.000000</td>\n",
       "      <td>5.200000</td>\n",
       "      <td>0.000000</td>\n",
       "      <td>NaN</td>\n",
       "    </tr>\n",
       "    <tr>\n",
       "      <th>25%</th>\n",
       "      <td>NaN</td>\n",
       "      <td>1.000000</td>\n",
       "      <td>14.600000</td>\n",
       "      <td>1.000000</td>\n",
       "      <td>NaN</td>\n",
       "    </tr>\n",
       "    <tr>\n",
       "      <th>50%</th>\n",
       "      <td>NaN</td>\n",
       "      <td>1.000000</td>\n",
       "      <td>24.400000</td>\n",
       "      <td>11.000000</td>\n",
       "      <td>NaN</td>\n",
       "    </tr>\n",
       "    <tr>\n",
       "      <th>75%</th>\n",
       "      <td>NaN</td>\n",
       "      <td>1.000000</td>\n",
       "      <td>42.000000</td>\n",
       "      <td>34.000000</td>\n",
       "      <td>NaN</td>\n",
       "    </tr>\n",
       "    <tr>\n",
       "      <th>max</th>\n",
       "      <td>NaN</td>\n",
       "      <td>1.000000</td>\n",
       "      <td>225.000000</td>\n",
       "      <td>578.000000</td>\n",
       "      <td>NaN</td>\n",
       "    </tr>\n",
       "  </tbody>\n",
       "</table>\n",
       "</div>"
      ],
      "text/plain": [
       "       product_id  onsale_web       price  stock_quantity stock_status\n",
       "count         825  825.000000  825.000000      825.000000          825\n",
       "unique        825         NaN         NaN             NaN            2\n",
       "top          3847         NaN         NaN             NaN      instock\n",
       "freq            1         NaN         NaN             NaN          638\n",
       "mean          NaN    0.869091   32.415636       26.496970          NaN\n",
       "std           NaN    0.337506   26.795849       45.892422          NaN\n",
       "min           NaN    0.000000    5.200000        0.000000          NaN\n",
       "25%           NaN    1.000000   14.600000        1.000000          NaN\n",
       "50%           NaN    1.000000   24.400000       11.000000          NaN\n",
       "75%           NaN    1.000000   42.000000       34.000000          NaN\n",
       "max           NaN    1.000000  225.000000      578.000000          NaN"
      ]
     },
     "execution_count": 116,
     "metadata": {},
     "output_type": "execute_result"
    }
   ],
   "source": [
    "df_erp.describe(include='all')"
   ]
  },
  {
   "cell_type": "code",
   "execution_count": 117,
   "id": "9baea7ac-5214-4272-a1e3-a36ba3c49f4b",
   "metadata": {},
   "outputs": [
    {
     "data": {
      "text/html": [
       "<div>\n",
       "<style scoped>\n",
       "    .dataframe tbody tr th:only-of-type {\n",
       "        vertical-align: middle;\n",
       "    }\n",
       "\n",
       "    .dataframe tbody tr th {\n",
       "        vertical-align: top;\n",
       "    }\n",
       "\n",
       "    .dataframe thead th {\n",
       "        text-align: right;\n",
       "    }\n",
       "</style>\n",
       "<table border=\"1\" class=\"dataframe\">\n",
       "  <thead>\n",
       "    <tr style=\"text-align: right;\">\n",
       "      <th></th>\n",
       "      <th>web_id</th>\n",
       "      <th>total_sales</th>\n",
       "      <th>tax_status</th>\n",
       "      <th>post_author</th>\n",
       "      <th>post_date</th>\n",
       "      <th>post_date_gmt</th>\n",
       "      <th>post_title</th>\n",
       "      <th>post_excerpt</th>\n",
       "      <th>post_status</th>\n",
       "      <th>comment_status</th>\n",
       "      <th>ping_status</th>\n",
       "      <th>post_name</th>\n",
       "      <th>post_modified</th>\n",
       "      <th>post_modified_gmt</th>\n",
       "      <th>guid</th>\n",
       "      <th>post_type</th>\n",
       "      <th>post_mime_type</th>\n",
       "    </tr>\n",
       "  </thead>\n",
       "  <tbody>\n",
       "    <tr>\n",
       "      <th>count</th>\n",
       "      <td>714</td>\n",
       "      <td>714.000000</td>\n",
       "      <td>714</td>\n",
       "      <td>714.000000</td>\n",
       "      <td>714</td>\n",
       "      <td>714</td>\n",
       "      <td>714</td>\n",
       "      <td>714</td>\n",
       "      <td>714</td>\n",
       "      <td>714</td>\n",
       "      <td>714</td>\n",
       "      <td>714</td>\n",
       "      <td>714</td>\n",
       "      <td>714</td>\n",
       "      <td>714</td>\n",
       "      <td>714</td>\n",
       "      <td>0</td>\n",
       "    </tr>\n",
       "    <tr>\n",
       "      <th>unique</th>\n",
       "      <td>714</td>\n",
       "      <td>NaN</td>\n",
       "      <td>1</td>\n",
       "      <td>NaN</td>\n",
       "      <td>NaN</td>\n",
       "      <td>NaN</td>\n",
       "      <td>711</td>\n",
       "      <td>677</td>\n",
       "      <td>1</td>\n",
       "      <td>1</td>\n",
       "      <td>1</td>\n",
       "      <td>714</td>\n",
       "      <td>NaN</td>\n",
       "      <td>NaN</td>\n",
       "      <td>714</td>\n",
       "      <td>1</td>\n",
       "      <td>0</td>\n",
       "    </tr>\n",
       "    <tr>\n",
       "      <th>top</th>\n",
       "      <td>10014</td>\n",
       "      <td>NaN</td>\n",
       "      <td>taxable</td>\n",
       "      <td>NaN</td>\n",
       "      <td>NaN</td>\n",
       "      <td>NaN</td>\n",
       "      <td>Clos du Mont-Olivet Châteauneuf-du-Pape 2007</td>\n",
       "      <td>Les eaux de vie naissent d'une subtile alchimi...</td>\n",
       "      <td>publish</td>\n",
       "      <td>closed</td>\n",
       "      <td>closed</td>\n",
       "      <td>darnleys-london-dry-gin-original</td>\n",
       "      <td>NaN</td>\n",
       "      <td>NaN</td>\n",
       "      <td>https://www.bottle-neck.fr/?post_type=product&amp;...</td>\n",
       "      <td>product</td>\n",
       "      <td>NaN</td>\n",
       "    </tr>\n",
       "    <tr>\n",
       "      <th>freq</th>\n",
       "      <td>1</td>\n",
       "      <td>NaN</td>\n",
       "      <td>714</td>\n",
       "      <td>NaN</td>\n",
       "      <td>NaN</td>\n",
       "      <td>NaN</td>\n",
       "      <td>2</td>\n",
       "      <td>12</td>\n",
       "      <td>714</td>\n",
       "      <td>714</td>\n",
       "      <td>714</td>\n",
       "      <td>1</td>\n",
       "      <td>NaN</td>\n",
       "      <td>NaN</td>\n",
       "      <td>1</td>\n",
       "      <td>714</td>\n",
       "      <td>NaN</td>\n",
       "    </tr>\n",
       "    <tr>\n",
       "      <th>mean</th>\n",
       "      <td>NaN</td>\n",
       "      <td>4.012605</td>\n",
       "      <td>NaN</td>\n",
       "      <td>1.998599</td>\n",
       "      <td>2018-08-22 03:57:52.950980608</td>\n",
       "      <td>2018-08-22 02:29:08.581232640</td>\n",
       "      <td>NaN</td>\n",
       "      <td>NaN</td>\n",
       "      <td>NaN</td>\n",
       "      <td>NaN</td>\n",
       "      <td>NaN</td>\n",
       "      <td>NaN</td>\n",
       "      <td>2020-06-20 21:45:25.694678272</td>\n",
       "      <td>2020-06-20 19:51:53.929971968</td>\n",
       "      <td>NaN</td>\n",
       "      <td>NaN</td>\n",
       "      <td>NaN</td>\n",
       "    </tr>\n",
       "    <tr>\n",
       "      <th>min</th>\n",
       "      <td>NaN</td>\n",
       "      <td>0.000000</td>\n",
       "      <td>NaN</td>\n",
       "      <td>1.000000</td>\n",
       "      <td>2018-02-08 12:58:52</td>\n",
       "      <td>2018-02-08 11:58:52</td>\n",
       "      <td>NaN</td>\n",
       "      <td>NaN</td>\n",
       "      <td>NaN</td>\n",
       "      <td>NaN</td>\n",
       "      <td>NaN</td>\n",
       "      <td>NaN</td>\n",
       "      <td>2018-02-20 15:19:23</td>\n",
       "      <td>2018-02-20 14:19:23</td>\n",
       "      <td>NaN</td>\n",
       "      <td>NaN</td>\n",
       "      <td>NaN</td>\n",
       "    </tr>\n",
       "    <tr>\n",
       "      <th>25%</th>\n",
       "      <td>NaN</td>\n",
       "      <td>0.000000</td>\n",
       "      <td>NaN</td>\n",
       "      <td>2.000000</td>\n",
       "      <td>2018-02-27 20:01:12.500000</td>\n",
       "      <td>2018-02-27 19:01:12.500000</td>\n",
       "      <td>NaN</td>\n",
       "      <td>NaN</td>\n",
       "      <td>NaN</td>\n",
       "      <td>NaN</td>\n",
       "      <td>NaN</td>\n",
       "      <td>NaN</td>\n",
       "      <td>2020-06-18 18:32:35</td>\n",
       "      <td>2020-06-18 16:32:35</td>\n",
       "      <td>NaN</td>\n",
       "      <td>NaN</td>\n",
       "      <td>NaN</td>\n",
       "    </tr>\n",
       "    <tr>\n",
       "      <th>50%</th>\n",
       "      <td>NaN</td>\n",
       "      <td>1.000000</td>\n",
       "      <td>NaN</td>\n",
       "      <td>2.000000</td>\n",
       "      <td>2018-04-19 14:52:10</td>\n",
       "      <td>2018-04-19 12:52:10</td>\n",
       "      <td>NaN</td>\n",
       "      <td>NaN</td>\n",
       "      <td>NaN</td>\n",
       "      <td>NaN</td>\n",
       "      <td>NaN</td>\n",
       "      <td>NaN</td>\n",
       "      <td>2020-08-04 09:30:06.500000</td>\n",
       "      <td>2020-08-04 07:30:06.500000</td>\n",
       "      <td>NaN</td>\n",
       "      <td>NaN</td>\n",
       "      <td>NaN</td>\n",
       "    </tr>\n",
       "    <tr>\n",
       "      <th>75%</th>\n",
       "      <td>NaN</td>\n",
       "      <td>4.000000</td>\n",
       "      <td>NaN</td>\n",
       "      <td>2.000000</td>\n",
       "      <td>2019-01-31 14:35:47</td>\n",
       "      <td>2019-01-31 13:35:47</td>\n",
       "      <td>NaN</td>\n",
       "      <td>NaN</td>\n",
       "      <td>NaN</td>\n",
       "      <td>NaN</td>\n",
       "      <td>NaN</td>\n",
       "      <td>NaN</td>\n",
       "      <td>2020-08-25 10:32:32</td>\n",
       "      <td>2020-08-25 08:32:32</td>\n",
       "      <td>NaN</td>\n",
       "      <td>NaN</td>\n",
       "      <td>NaN</td>\n",
       "    </tr>\n",
       "    <tr>\n",
       "      <th>max</th>\n",
       "      <td>NaN</td>\n",
       "      <td>96.000000</td>\n",
       "      <td>NaN</td>\n",
       "      <td>2.000000</td>\n",
       "      <td>2020-07-20 11:00:00</td>\n",
       "      <td>2020-07-20 09:00:00</td>\n",
       "      <td>NaN</td>\n",
       "      <td>NaN</td>\n",
       "      <td>NaN</td>\n",
       "      <td>NaN</td>\n",
       "      <td>NaN</td>\n",
       "      <td>NaN</td>\n",
       "      <td>2020-08-27 18:55:03</td>\n",
       "      <td>2020-08-27 16:55:03</td>\n",
       "      <td>NaN</td>\n",
       "      <td>NaN</td>\n",
       "      <td>NaN</td>\n",
       "    </tr>\n",
       "    <tr>\n",
       "      <th>std</th>\n",
       "      <td>NaN</td>\n",
       "      <td>8.518183</td>\n",
       "      <td>NaN</td>\n",
       "      <td>0.037424</td>\n",
       "      <td>NaN</td>\n",
       "      <td>NaN</td>\n",
       "      <td>NaN</td>\n",
       "      <td>NaN</td>\n",
       "      <td>NaN</td>\n",
       "      <td>NaN</td>\n",
       "      <td>NaN</td>\n",
       "      <td>NaN</td>\n",
       "      <td>NaN</td>\n",
       "      <td>NaN</td>\n",
       "      <td>NaN</td>\n",
       "      <td>NaN</td>\n",
       "      <td>NaN</td>\n",
       "    </tr>\n",
       "  </tbody>\n",
       "</table>\n",
       "</div>"
      ],
      "text/plain": [
       "       web_id  total_sales tax_status  post_author  \\\n",
       "count     714   714.000000        714   714.000000   \n",
       "unique    714          NaN          1          NaN   \n",
       "top     10014          NaN    taxable          NaN   \n",
       "freq        1          NaN        714          NaN   \n",
       "mean      NaN     4.012605        NaN     1.998599   \n",
       "min       NaN     0.000000        NaN     1.000000   \n",
       "25%       NaN     0.000000        NaN     2.000000   \n",
       "50%       NaN     1.000000        NaN     2.000000   \n",
       "75%       NaN     4.000000        NaN     2.000000   \n",
       "max       NaN    96.000000        NaN     2.000000   \n",
       "std       NaN     8.518183        NaN     0.037424   \n",
       "\n",
       "                            post_date                  post_date_gmt  \\\n",
       "count                             714                            714   \n",
       "unique                            NaN                            NaN   \n",
       "top                               NaN                            NaN   \n",
       "freq                              NaN                            NaN   \n",
       "mean    2018-08-22 03:57:52.950980608  2018-08-22 02:29:08.581232640   \n",
       "min               2018-02-08 12:58:52            2018-02-08 11:58:52   \n",
       "25%        2018-02-27 20:01:12.500000     2018-02-27 19:01:12.500000   \n",
       "50%               2018-04-19 14:52:10            2018-04-19 12:52:10   \n",
       "75%               2019-01-31 14:35:47            2019-01-31 13:35:47   \n",
       "max               2020-07-20 11:00:00            2020-07-20 09:00:00   \n",
       "std                               NaN                            NaN   \n",
       "\n",
       "                                          post_title  \\\n",
       "count                                            714   \n",
       "unique                                           711   \n",
       "top     Clos du Mont-Olivet Châteauneuf-du-Pape 2007   \n",
       "freq                                               2   \n",
       "mean                                             NaN   \n",
       "min                                              NaN   \n",
       "25%                                              NaN   \n",
       "50%                                              NaN   \n",
       "75%                                              NaN   \n",
       "max                                              NaN   \n",
       "std                                              NaN   \n",
       "\n",
       "                                             post_excerpt post_status  \\\n",
       "count                                                 714         714   \n",
       "unique                                                677           1   \n",
       "top     Les eaux de vie naissent d'une subtile alchimi...     publish   \n",
       "freq                                                   12         714   \n",
       "mean                                                  NaN         NaN   \n",
       "min                                                   NaN         NaN   \n",
       "25%                                                   NaN         NaN   \n",
       "50%                                                   NaN         NaN   \n",
       "75%                                                   NaN         NaN   \n",
       "max                                                   NaN         NaN   \n",
       "std                                                   NaN         NaN   \n",
       "\n",
       "       comment_status ping_status                         post_name  \\\n",
       "count             714         714                               714   \n",
       "unique              1           1                               714   \n",
       "top            closed      closed  darnleys-london-dry-gin-original   \n",
       "freq              714         714                                 1   \n",
       "mean              NaN         NaN                               NaN   \n",
       "min               NaN         NaN                               NaN   \n",
       "25%               NaN         NaN                               NaN   \n",
       "50%               NaN         NaN                               NaN   \n",
       "75%               NaN         NaN                               NaN   \n",
       "max               NaN         NaN                               NaN   \n",
       "std               NaN         NaN                               NaN   \n",
       "\n",
       "                        post_modified              post_modified_gmt  \\\n",
       "count                             714                            714   \n",
       "unique                            NaN                            NaN   \n",
       "top                               NaN                            NaN   \n",
       "freq                              NaN                            NaN   \n",
       "mean    2020-06-20 21:45:25.694678272  2020-06-20 19:51:53.929971968   \n",
       "min               2018-02-20 15:19:23            2018-02-20 14:19:23   \n",
       "25%               2020-06-18 18:32:35            2020-06-18 16:32:35   \n",
       "50%        2020-08-04 09:30:06.500000     2020-08-04 07:30:06.500000   \n",
       "75%               2020-08-25 10:32:32            2020-08-25 08:32:32   \n",
       "max               2020-08-27 18:55:03            2020-08-27 16:55:03   \n",
       "std                               NaN                            NaN   \n",
       "\n",
       "                                                     guid post_type  \\\n",
       "count                                                 714       714   \n",
       "unique                                                714         1   \n",
       "top     https://www.bottle-neck.fr/?post_type=product&...   product   \n",
       "freq                                                    1       714   \n",
       "mean                                                  NaN       NaN   \n",
       "min                                                   NaN       NaN   \n",
       "25%                                                   NaN       NaN   \n",
       "50%                                                   NaN       NaN   \n",
       "75%                                                   NaN       NaN   \n",
       "max                                                   NaN       NaN   \n",
       "std                                                   NaN       NaN   \n",
       "\n",
       "       post_mime_type  \n",
       "count               0  \n",
       "unique              0  \n",
       "top               NaN  \n",
       "freq              NaN  \n",
       "mean              NaN  \n",
       "min               NaN  \n",
       "25%               NaN  \n",
       "50%               NaN  \n",
       "75%               NaN  \n",
       "max               NaN  \n",
       "std               NaN  "
      ]
     },
     "execution_count": 117,
     "metadata": {},
     "output_type": "execute_result"
    }
   ],
   "source": [
    "df_web.describe(include='all', datetime_is_numeric=True) #Le dernier paramètre sert à ne pas afficher le warning"
   ]
  },
  {
   "cell_type": "code",
   "execution_count": 118,
   "id": "b28853ad-336f-4b82-af4c-b8a5de8cfc97",
   "metadata": {},
   "outputs": [
    {
     "data": {
      "text/html": [
       "<div>\n",
       "<style scoped>\n",
       "    .dataframe tbody tr th:only-of-type {\n",
       "        vertical-align: middle;\n",
       "    }\n",
       "\n",
       "    .dataframe tbody tr th {\n",
       "        vertical-align: top;\n",
       "    }\n",
       "\n",
       "    .dataframe thead th {\n",
       "        text-align: right;\n",
       "    }\n",
       "</style>\n",
       "<table border=\"1\" class=\"dataframe\">\n",
       "  <thead>\n",
       "    <tr style=\"text-align: right;\">\n",
       "      <th></th>\n",
       "      <th>product_id</th>\n",
       "      <th>web_id</th>\n",
       "    </tr>\n",
       "  </thead>\n",
       "  <tbody>\n",
       "    <tr>\n",
       "      <th>count</th>\n",
       "      <td>734</td>\n",
       "      <td>734</td>\n",
       "    </tr>\n",
       "    <tr>\n",
       "      <th>unique</th>\n",
       "      <td>734</td>\n",
       "      <td>734</td>\n",
       "    </tr>\n",
       "    <tr>\n",
       "      <th>top</th>\n",
       "      <td>3847</td>\n",
       "      <td>15298</td>\n",
       "    </tr>\n",
       "    <tr>\n",
       "      <th>freq</th>\n",
       "      <td>1</td>\n",
       "      <td>1</td>\n",
       "    </tr>\n",
       "  </tbody>\n",
       "</table>\n",
       "</div>"
      ],
      "text/plain": [
       "       product_id web_id\n",
       "count         734    734\n",
       "unique        734    734\n",
       "top          3847  15298\n",
       "freq            1      1"
      ]
     },
     "execution_count": 118,
     "metadata": {},
     "output_type": "execute_result"
    }
   ],
   "source": [
    "df_liaison.describe(include='all')"
   ]
  },
  {
   "cell_type": "markdown",
   "id": "cdbffb42-c45a-4441-a130-935016a3bc42",
   "metadata": {},
   "source": [
    "#### Conclusion\n",
    "Au premier coup d'oeil, pas d'anomalies."
   ]
  },
  {
   "cell_type": "markdown",
   "id": "6593e953-2bb1-40a7-b372-0cad0df268f9",
   "metadata": {},
   "source": [
    "# <a name=\"C5\">Rapprochement des 2 tableaux </a>\n",
    "\n",
    "Méthode :<br>\n",
    "Je fais le merge en 2 temps. <br>\n",
    "D'abord le tableau liaison avec les données de l'erp.<br>\n",
    "Ensuite  je repars de ce dataframe pour y merger les données du fichier web.<br>\n",
    "J'utilise le inner car si je n'ai pas de correspondance, entre le fichier liaison et erp, les données sont inutiles puisque le fichier liaison est le lien. Pareil pour le second merge."
   ]
  },
  {
   "cell_type": "code",
   "execution_count": 119,
   "id": "b34d9295-d09a-4ed8-ba7c-c19f5c6a0412",
   "metadata": {},
   "outputs": [
    {
     "data": {
      "text/plain": [
       "(734, 2)"
      ]
     },
     "execution_count": 119,
     "metadata": {},
     "output_type": "execute_result"
    }
   ],
   "source": [
    "df_liaison.shape"
   ]
  },
  {
   "cell_type": "code",
   "execution_count": 120,
   "id": "426198bc-519e-49e4-866a-b2b3bf92e7ff",
   "metadata": {},
   "outputs": [],
   "source": [
    "df_temp_merge=df_liaison.merge(df_erp,how=\"inner\")"
   ]
  },
  {
   "cell_type": "code",
   "execution_count": 121,
   "id": "3c802584-209c-484a-85a7-43a2555785ce",
   "metadata": {},
   "outputs": [
    {
     "name": "stdout",
     "output_type": "stream",
     "text": [
      "Dimension du tableau : (734, 6)\n"
     ]
    }
   ],
   "source": [
    "if len(df_temp_merge) < len(df_liaison):\n",
    "    print (f\"On note la disparition de {len(df_liaison) - len(df_temp_merge)} lignes qui n'ont pas trouvé de correspondance lors du merge.\")\n",
    "print (f\"Dimension du tableau : {df_temp_merge.shape}\")"
   ]
  },
  {
   "cell_type": "code",
   "execution_count": 122,
   "id": "7accd70f-0049-4290-abed-dd4ad0bce9ea",
   "metadata": {},
   "outputs": [],
   "source": [
    "df_final=df_temp_merge.merge(df_web, how=\"inner\")"
   ]
  },
  {
   "cell_type": "code",
   "execution_count": 123,
   "id": "e9efa899-e27e-4911-9457-639479848dc2",
   "metadata": {},
   "outputs": [
    {
     "name": "stdout",
     "output_type": "stream",
     "text": [
      "On note la disparition de 20 lignes qui n'ont pas trouvé de correspondance lors du merge.\n",
      "Dimension du tableau : (714, 22)\n"
     ]
    }
   ],
   "source": [
    "if len(df_final) < len(df_temp_merge):\n",
    "    print (f\"On note la disparition de {len(df_temp_merge) - len(df_final)} lignes qui n'ont pas trouvé de correspondance lors du merge.\")\n",
    "print (f\"Dimension du tableau : {df_final.shape}\")"
   ]
  },
  {
   "cell_type": "code",
   "execution_count": 124,
   "id": "e4a3f1fe-56cd-4918-9290-55172e658c41",
   "metadata": {},
   "outputs": [
    {
     "data": {
      "text/html": [
       "<div>\n",
       "<style scoped>\n",
       "    .dataframe tbody tr th:only-of-type {\n",
       "        vertical-align: middle;\n",
       "    }\n",
       "\n",
       "    .dataframe tbody tr th {\n",
       "        vertical-align: top;\n",
       "    }\n",
       "\n",
       "    .dataframe thead th {\n",
       "        text-align: right;\n",
       "    }\n",
       "</style>\n",
       "<table border=\"1\" class=\"dataframe\">\n",
       "  <thead>\n",
       "    <tr style=\"text-align: right;\">\n",
       "      <th></th>\n",
       "      <th>product_id</th>\n",
       "      <th>web_id</th>\n",
       "      <th>onsale_web</th>\n",
       "      <th>price</th>\n",
       "      <th>stock_quantity</th>\n",
       "      <th>stock_status</th>\n",
       "      <th>total_sales</th>\n",
       "      <th>tax_status</th>\n",
       "      <th>post_author</th>\n",
       "      <th>post_date</th>\n",
       "      <th>post_date_gmt</th>\n",
       "      <th>post_title</th>\n",
       "      <th>post_excerpt</th>\n",
       "      <th>post_status</th>\n",
       "      <th>comment_status</th>\n",
       "      <th>ping_status</th>\n",
       "      <th>post_name</th>\n",
       "      <th>post_modified</th>\n",
       "      <th>post_modified_gmt</th>\n",
       "      <th>guid</th>\n",
       "      <th>post_type</th>\n",
       "      <th>post_mime_type</th>\n",
       "    </tr>\n",
       "  </thead>\n",
       "  <tbody>\n",
       "    <tr>\n",
       "      <th>0</th>\n",
       "      <td>3847</td>\n",
       "      <td>15298</td>\n",
       "      <td>1</td>\n",
       "      <td>24.2</td>\n",
       "      <td>0</td>\n",
       "      <td>outofstock</td>\n",
       "      <td>6.0</td>\n",
       "      <td>taxable</td>\n",
       "      <td>2.0</td>\n",
       "      <td>2018-02-08 12:58:52</td>\n",
       "      <td>2018-02-08 11:58:52</td>\n",
       "      <td>Pierre Jean Villa Saint-Joseph Préface 2018</td>\n",
       "      <td>Il exhale un nez subtil, racé avec du poivre f...</td>\n",
       "      <td>publish</td>\n",
       "      <td>closed</td>\n",
       "      <td>closed</td>\n",
       "      <td>pierre-jean-villa-saint-joseph-preface-2018</td>\n",
       "      <td>2019-12-30 09:30:29</td>\n",
       "      <td>2019-12-30 08:30:29</td>\n",
       "      <td>https://www.bottle-neck.fr/?post_type=product&amp;...</td>\n",
       "      <td>product</td>\n",
       "      <td>NaN</td>\n",
       "    </tr>\n",
       "    <tr>\n",
       "      <th>1</th>\n",
       "      <td>3849</td>\n",
       "      <td>15296</td>\n",
       "      <td>1</td>\n",
       "      <td>34.3</td>\n",
       "      <td>0</td>\n",
       "      <td>outofstock</td>\n",
       "      <td>0.0</td>\n",
       "      <td>taxable</td>\n",
       "      <td>2.0</td>\n",
       "      <td>2018-02-08 13:49:41</td>\n",
       "      <td>2018-02-08 12:49:41</td>\n",
       "      <td>Pierre Jean Villa Saint-Joseph Rouge Tildé 2017</td>\n",
       "      <td>Les vieilles vignes lui apportent une rare pro...</td>\n",
       "      <td>publish</td>\n",
       "      <td>closed</td>\n",
       "      <td>closed</td>\n",
       "      <td>pierre-jean-villa-saint-joseph-tilde-2017</td>\n",
       "      <td>2019-12-21 09:00:17</td>\n",
       "      <td>2019-12-21 08:00:17</td>\n",
       "      <td>https://www.bottle-neck.fr/?post_type=product&amp;...</td>\n",
       "      <td>product</td>\n",
       "      <td>NaN</td>\n",
       "    </tr>\n",
       "    <tr>\n",
       "      <th>2</th>\n",
       "      <td>3850</td>\n",
       "      <td>15300</td>\n",
       "      <td>1</td>\n",
       "      <td>20.8</td>\n",
       "      <td>0</td>\n",
       "      <td>outofstock</td>\n",
       "      <td>0.0</td>\n",
       "      <td>taxable</td>\n",
       "      <td>2.0</td>\n",
       "      <td>2018-02-08 14:08:36</td>\n",
       "      <td>2018-02-08 13:08:36</td>\n",
       "      <td>Pierre Jean Villa Crozes-Hermitage Accroche Co...</td>\n",
       "      <td>Dentelle de fruit de jeunes syrah, aux tanins ...</td>\n",
       "      <td>publish</td>\n",
       "      <td>closed</td>\n",
       "      <td>closed</td>\n",
       "      <td>pierre-jean-villa-croze-hermitage-accroche-coe...</td>\n",
       "      <td>2020-06-26 18:15:03</td>\n",
       "      <td>2020-06-26 16:15:03</td>\n",
       "      <td>https://www.bottle-neck.fr/?post_type=product&amp;...</td>\n",
       "      <td>product</td>\n",
       "      <td>NaN</td>\n",
       "    </tr>\n",
       "    <tr>\n",
       "      <th>3</th>\n",
       "      <td>4032</td>\n",
       "      <td>19814</td>\n",
       "      <td>1</td>\n",
       "      <td>14.1</td>\n",
       "      <td>0</td>\n",
       "      <td>outofstock</td>\n",
       "      <td>3.0</td>\n",
       "      <td>taxable</td>\n",
       "      <td>2.0</td>\n",
       "      <td>2018-02-09 14:01:05</td>\n",
       "      <td>2018-02-09 13:01:05</td>\n",
       "      <td>Pierre Jean Villa IGP Collines Rhodaniennes Ga...</td>\n",
       "      <td>Gamine représente tout le fruité et la gourman...</td>\n",
       "      <td>publish</td>\n",
       "      <td>closed</td>\n",
       "      <td>closed</td>\n",
       "      <td>pierre-jean-villa-igp-gamine-2018</td>\n",
       "      <td>2020-01-04 16:36:01</td>\n",
       "      <td>2020-01-04 15:36:01</td>\n",
       "      <td>https://www.bottle-neck.fr/?post_type=product&amp;...</td>\n",
       "      <td>product</td>\n",
       "      <td>NaN</td>\n",
       "    </tr>\n",
       "  </tbody>\n",
       "</table>\n",
       "</div>"
      ],
      "text/plain": [
       "  product_id web_id  onsale_web  price  stock_quantity stock_status  \\\n",
       "0       3847  15298           1   24.2               0   outofstock   \n",
       "1       3849  15296           1   34.3               0   outofstock   \n",
       "2       3850  15300           1   20.8               0   outofstock   \n",
       "3       4032  19814           1   14.1               0   outofstock   \n",
       "\n",
       "   total_sales tax_status  post_author           post_date  \\\n",
       "0          6.0    taxable          2.0 2018-02-08 12:58:52   \n",
       "1          0.0    taxable          2.0 2018-02-08 13:49:41   \n",
       "2          0.0    taxable          2.0 2018-02-08 14:08:36   \n",
       "3          3.0    taxable          2.0 2018-02-09 14:01:05   \n",
       "\n",
       "        post_date_gmt                                         post_title  \\\n",
       "0 2018-02-08 11:58:52        Pierre Jean Villa Saint-Joseph Préface 2018   \n",
       "1 2018-02-08 12:49:41    Pierre Jean Villa Saint-Joseph Rouge Tildé 2017   \n",
       "2 2018-02-08 13:08:36  Pierre Jean Villa Crozes-Hermitage Accroche Co...   \n",
       "3 2018-02-09 13:01:05  Pierre Jean Villa IGP Collines Rhodaniennes Ga...   \n",
       "\n",
       "                                        post_excerpt post_status  \\\n",
       "0  Il exhale un nez subtil, racé avec du poivre f...     publish   \n",
       "1  Les vieilles vignes lui apportent une rare pro...     publish   \n",
       "2  Dentelle de fruit de jeunes syrah, aux tanins ...     publish   \n",
       "3  Gamine représente tout le fruité et la gourman...     publish   \n",
       "\n",
       "  comment_status ping_status  \\\n",
       "0         closed      closed   \n",
       "1         closed      closed   \n",
       "2         closed      closed   \n",
       "3         closed      closed   \n",
       "\n",
       "                                           post_name       post_modified  \\\n",
       "0        pierre-jean-villa-saint-joseph-preface-2018 2019-12-30 09:30:29   \n",
       "1          pierre-jean-villa-saint-joseph-tilde-2017 2019-12-21 09:00:17   \n",
       "2  pierre-jean-villa-croze-hermitage-accroche-coe... 2020-06-26 18:15:03   \n",
       "3                  pierre-jean-villa-igp-gamine-2018 2020-01-04 16:36:01   \n",
       "\n",
       "    post_modified_gmt                                               guid  \\\n",
       "0 2019-12-30 08:30:29  https://www.bottle-neck.fr/?post_type=product&...   \n",
       "1 2019-12-21 08:00:17  https://www.bottle-neck.fr/?post_type=product&...   \n",
       "2 2020-06-26 16:15:03  https://www.bottle-neck.fr/?post_type=product&...   \n",
       "3 2020-01-04 15:36:01  https://www.bottle-neck.fr/?post_type=product&...   \n",
       "\n",
       "  post_type post_mime_type  \n",
       "0   product            NaN  \n",
       "1   product            NaN  \n",
       "2   product            NaN  \n",
       "3   product            NaN  "
      ]
     },
     "execution_count": 124,
     "metadata": {},
     "output_type": "execute_result"
    }
   ],
   "source": [
    "df_final.head(4)"
   ]
  },
  {
   "cell_type": "markdown",
   "id": "5e4df95d-28d9-48bb-a36c-4a8443c9ff5c",
   "metadata": {},
   "source": [
    "Je nettoie le tableau de colonnes qui semblent inutiles pour nos calculs et analyses.\n"
   ]
  },
  {
   "cell_type": "code",
   "execution_count": 125,
   "id": "6c7ca4f7-f686-4639-9c8a-c9b2ede1900b",
   "metadata": {},
   "outputs": [
    {
     "data": {
      "text/plain": [
       "Index(['product_id', 'web_id', 'onsale_web', 'price', 'stock_quantity',\n",
       "       'stock_status', 'total_sales', 'tax_status', 'post_author', 'post_date',\n",
       "       'post_date_gmt', 'post_title', 'post_excerpt', 'post_status',\n",
       "       'comment_status', 'ping_status', 'post_name', 'post_modified',\n",
       "       'post_modified_gmt', 'guid', 'post_type', 'post_mime_type'],\n",
       "      dtype='object')"
      ]
     },
     "execution_count": 125,
     "metadata": {},
     "output_type": "execute_result"
    }
   ],
   "source": [
    "df_final.columns"
   ]
  },
  {
   "cell_type": "code",
   "execution_count": 126,
   "id": "16195398-ff0c-4396-b5c4-82672072cf5e",
   "metadata": {},
   "outputs": [],
   "source": [
    "df_final.drop(columns=['tax_status', 'post_author', 'post_date',\n",
    "       'post_date_gmt',  'post_status','comment_status', 'ping_status', 'post_name', 'post_modified',\n",
    "       'post_modified_gmt', 'guid', 'post_type', 'post_mime_type'], inplace=True)"
   ]
  },
  {
   "cell_type": "code",
   "execution_count": 127,
   "id": "4d8b8650-b8cb-4f7b-8142-880e90b39d15",
   "metadata": {},
   "outputs": [
    {
     "data": {
      "text/html": [
       "<div>\n",
       "<style scoped>\n",
       "    .dataframe tbody tr th:only-of-type {\n",
       "        vertical-align: middle;\n",
       "    }\n",
       "\n",
       "    .dataframe tbody tr th {\n",
       "        vertical-align: top;\n",
       "    }\n",
       "\n",
       "    .dataframe thead th {\n",
       "        text-align: right;\n",
       "    }\n",
       "</style>\n",
       "<table border=\"1\" class=\"dataframe\">\n",
       "  <thead>\n",
       "    <tr style=\"text-align: right;\">\n",
       "      <th></th>\n",
       "      <th>product_id</th>\n",
       "      <th>web_id</th>\n",
       "      <th>onsale_web</th>\n",
       "      <th>price</th>\n",
       "      <th>stock_quantity</th>\n",
       "      <th>stock_status</th>\n",
       "      <th>total_sales</th>\n",
       "      <th>post_title</th>\n",
       "      <th>post_excerpt</th>\n",
       "    </tr>\n",
       "  </thead>\n",
       "  <tbody>\n",
       "    <tr>\n",
       "      <th>0</th>\n",
       "      <td>3847</td>\n",
       "      <td>15298</td>\n",
       "      <td>1</td>\n",
       "      <td>24.2</td>\n",
       "      <td>0</td>\n",
       "      <td>outofstock</td>\n",
       "      <td>6.0</td>\n",
       "      <td>Pierre Jean Villa Saint-Joseph Préface 2018</td>\n",
       "      <td>Il exhale un nez subtil, racé avec du poivre f...</td>\n",
       "    </tr>\n",
       "    <tr>\n",
       "      <th>1</th>\n",
       "      <td>3849</td>\n",
       "      <td>15296</td>\n",
       "      <td>1</td>\n",
       "      <td>34.3</td>\n",
       "      <td>0</td>\n",
       "      <td>outofstock</td>\n",
       "      <td>0.0</td>\n",
       "      <td>Pierre Jean Villa Saint-Joseph Rouge Tildé 2017</td>\n",
       "      <td>Les vieilles vignes lui apportent une rare pro...</td>\n",
       "    </tr>\n",
       "    <tr>\n",
       "      <th>2</th>\n",
       "      <td>3850</td>\n",
       "      <td>15300</td>\n",
       "      <td>1</td>\n",
       "      <td>20.8</td>\n",
       "      <td>0</td>\n",
       "      <td>outofstock</td>\n",
       "      <td>0.0</td>\n",
       "      <td>Pierre Jean Villa Crozes-Hermitage Accroche Co...</td>\n",
       "      <td>Dentelle de fruit de jeunes syrah, aux tanins ...</td>\n",
       "    </tr>\n",
       "    <tr>\n",
       "      <th>3</th>\n",
       "      <td>4032</td>\n",
       "      <td>19814</td>\n",
       "      <td>1</td>\n",
       "      <td>14.1</td>\n",
       "      <td>0</td>\n",
       "      <td>outofstock</td>\n",
       "      <td>3.0</td>\n",
       "      <td>Pierre Jean Villa IGP Collines Rhodaniennes Ga...</td>\n",
       "      <td>Gamine représente tout le fruité et la gourman...</td>\n",
       "    </tr>\n",
       "    <tr>\n",
       "      <th>4</th>\n",
       "      <td>4039</td>\n",
       "      <td>19815</td>\n",
       "      <td>1</td>\n",
       "      <td>46.0</td>\n",
       "      <td>0</td>\n",
       "      <td>outofstock</td>\n",
       "      <td>0.0</td>\n",
       "      <td>Pierre Jean Villa Côte Rôtie Carmina 2017</td>\n",
       "      <td>Le côte rôtie Carmina monte en puissance mais ...</td>\n",
       "    </tr>\n",
       "    <tr>\n",
       "      <th>...</th>\n",
       "      <td>...</td>\n",
       "      <td>...</td>\n",
       "      <td>...</td>\n",
       "      <td>...</td>\n",
       "      <td>...</td>\n",
       "      <td>...</td>\n",
       "      <td>...</td>\n",
       "      <td>...</td>\n",
       "      <td>...</td>\n",
       "    </tr>\n",
       "    <tr>\n",
       "      <th>709</th>\n",
       "      <td>6930</td>\n",
       "      <td>16135</td>\n",
       "      <td>1</td>\n",
       "      <td>8.4</td>\n",
       "      <td>83</td>\n",
       "      <td>instock</td>\n",
       "      <td>5.0</td>\n",
       "      <td>Mouthes Le Bihan Côtes de Duras L'Aimé Chai 2015</td>\n",
       "      <td>Belle robe jeune à dominante rubis soutenue. N...</td>\n",
       "    </tr>\n",
       "    <tr>\n",
       "      <th>710</th>\n",
       "      <td>7023</td>\n",
       "      <td>15891</td>\n",
       "      <td>1</td>\n",
       "      <td>27.5</td>\n",
       "      <td>15</td>\n",
       "      <td>instock</td>\n",
       "      <td>0.0</td>\n",
       "      <td>Camin Larredya Jurançon Sec La Virada 2018</td>\n",
       "      <td>L'exotisme du nez est complété par d'élégantes...</td>\n",
       "    </tr>\n",
       "    <tr>\n",
       "      <th>711</th>\n",
       "      <td>7025</td>\n",
       "      <td>15887</td>\n",
       "      <td>1</td>\n",
       "      <td>69.0</td>\n",
       "      <td>2</td>\n",
       "      <td>instock</td>\n",
       "      <td>0.0</td>\n",
       "      <td>Domaine Jamet Côte Rôtie Fructus Voluptas 2018</td>\n",
       "      <td>Pour cette cuvée, Jean-Paul Jamet recherche un...</td>\n",
       "    </tr>\n",
       "    <tr>\n",
       "      <th>712</th>\n",
       "      <td>7247</td>\n",
       "      <td>13127-1</td>\n",
       "      <td>1</td>\n",
       "      <td>54.8</td>\n",
       "      <td>23</td>\n",
       "      <td>instock</td>\n",
       "      <td>0.0</td>\n",
       "      <td>Clos du Mont-Olivet Châteauneuf-du-Pape 2007</td>\n",
       "      <td>Nez gracieux, très élégant avec une touche flo...</td>\n",
       "    </tr>\n",
       "    <tr>\n",
       "      <th>713</th>\n",
       "      <td>7338</td>\n",
       "      <td>16230</td>\n",
       "      <td>1</td>\n",
       "      <td>16.3</td>\n",
       "      <td>45</td>\n",
       "      <td>instock</td>\n",
       "      <td>0.0</td>\n",
       "      <td>Domaine Saint-Nicolas Vin de France Blanc Les ...</td>\n",
       "      <td>Issu d'un assemblage de chenin blanc et de cha...</td>\n",
       "    </tr>\n",
       "  </tbody>\n",
       "</table>\n",
       "<p>714 rows × 9 columns</p>\n",
       "</div>"
      ],
      "text/plain": [
       "    product_id   web_id  onsale_web  price  stock_quantity stock_status  \\\n",
       "0         3847    15298           1   24.2               0   outofstock   \n",
       "1         3849    15296           1   34.3               0   outofstock   \n",
       "2         3850    15300           1   20.8               0   outofstock   \n",
       "3         4032    19814           1   14.1               0   outofstock   \n",
       "4         4039    19815           1   46.0               0   outofstock   \n",
       "..         ...      ...         ...    ...             ...          ...   \n",
       "709       6930    16135           1    8.4              83      instock   \n",
       "710       7023    15891           1   27.5              15      instock   \n",
       "711       7025    15887           1   69.0               2      instock   \n",
       "712       7247  13127-1           1   54.8              23      instock   \n",
       "713       7338    16230           1   16.3              45      instock   \n",
       "\n",
       "     total_sales                                         post_title  \\\n",
       "0            6.0        Pierre Jean Villa Saint-Joseph Préface 2018   \n",
       "1            0.0    Pierre Jean Villa Saint-Joseph Rouge Tildé 2017   \n",
       "2            0.0  Pierre Jean Villa Crozes-Hermitage Accroche Co...   \n",
       "3            3.0  Pierre Jean Villa IGP Collines Rhodaniennes Ga...   \n",
       "4            0.0          Pierre Jean Villa Côte Rôtie Carmina 2017   \n",
       "..           ...                                                ...   \n",
       "709          5.0   Mouthes Le Bihan Côtes de Duras L'Aimé Chai 2015   \n",
       "710          0.0         Camin Larredya Jurançon Sec La Virada 2018   \n",
       "711          0.0     Domaine Jamet Côte Rôtie Fructus Voluptas 2018   \n",
       "712          0.0       Clos du Mont-Olivet Châteauneuf-du-Pape 2007   \n",
       "713          0.0  Domaine Saint-Nicolas Vin de France Blanc Les ...   \n",
       "\n",
       "                                          post_excerpt  \n",
       "0    Il exhale un nez subtil, racé avec du poivre f...  \n",
       "1    Les vieilles vignes lui apportent une rare pro...  \n",
       "2    Dentelle de fruit de jeunes syrah, aux tanins ...  \n",
       "3    Gamine représente tout le fruité et la gourman...  \n",
       "4    Le côte rôtie Carmina monte en puissance mais ...  \n",
       "..                                                 ...  \n",
       "709  Belle robe jeune à dominante rubis soutenue. N...  \n",
       "710  L'exotisme du nez est complété par d'élégantes...  \n",
       "711  Pour cette cuvée, Jean-Paul Jamet recherche un...  \n",
       "712  Nez gracieux, très élégant avec une touche flo...  \n",
       "713  Issu d'un assemblage de chenin blanc et de cha...  \n",
       "\n",
       "[714 rows x 9 columns]"
      ]
     },
     "execution_count": 127,
     "metadata": {},
     "output_type": "execute_result"
    }
   ],
   "source": [
    "df_final"
   ]
  },
  {
   "cell_type": "code",
   "execution_count": 128,
   "id": "14d42a28-749c-4d41-99fb-9a62a90786ea",
   "metadata": {},
   "outputs": [
    {
     "data": {
      "text/plain": [
       "product_id         object\n",
       "web_id             object\n",
       "onsale_web          int64\n",
       "price             float64\n",
       "stock_quantity      int64\n",
       "stock_status       object\n",
       "total_sales       float64\n",
       "post_title         object\n",
       "post_excerpt       object\n",
       "dtype: object"
      ]
     },
     "execution_count": 128,
     "metadata": {},
     "output_type": "execute_result"
    }
   ],
   "source": [
    "df_final.dtypes"
   ]
  },
  {
   "cell_type": "markdown",
   "id": "05fabff1-4d2e-4758-915a-2e8cd3932cdf",
   "metadata": {},
   "source": [
    "# <a name=\"C4\">Calculs</a>"
   ]
  },
  {
   "cell_type": "markdown",
   "id": "36c3dd49-fc58-4cdc-b97f-a7fb2eda33d6",
   "metadata": {},
   "source": [
    "## <a name = \"C6\">Calcul du CA par produit</a>\n",
    "CA = prix de vente x quantités vendues."
   ]
  },
  {
   "cell_type": "code",
   "execution_count": 129,
   "id": "eadf7361-39a5-402a-a8ab-35b5ee8c939a",
   "metadata": {},
   "outputs": [
    {
     "data": {
      "text/html": [
       "<div>\n",
       "<style scoped>\n",
       "    .dataframe tbody tr th:only-of-type {\n",
       "        vertical-align: middle;\n",
       "    }\n",
       "\n",
       "    .dataframe tbody tr th {\n",
       "        vertical-align: top;\n",
       "    }\n",
       "\n",
       "    .dataframe thead th {\n",
       "        text-align: right;\n",
       "    }\n",
       "</style>\n",
       "<table border=\"1\" class=\"dataframe\">\n",
       "  <thead>\n",
       "    <tr style=\"text-align: right;\">\n",
       "      <th></th>\n",
       "      <th>product_id</th>\n",
       "      <th>web_id</th>\n",
       "      <th>onsale_web</th>\n",
       "      <th>price</th>\n",
       "      <th>stock_quantity</th>\n",
       "      <th>stock_status</th>\n",
       "      <th>total_sales</th>\n",
       "      <th>post_title</th>\n",
       "      <th>post_excerpt</th>\n",
       "      <th>product_ca</th>\n",
       "    </tr>\n",
       "  </thead>\n",
       "  <tbody>\n",
       "    <tr>\n",
       "      <th>194</th>\n",
       "      <td>4334</td>\n",
       "      <td>7818</td>\n",
       "      <td>1</td>\n",
       "      <td>49.0</td>\n",
       "      <td>0</td>\n",
       "      <td>outofstock</td>\n",
       "      <td>96.0</td>\n",
       "      <td>Champagne Gosset Grand Blanc de Blancs</td>\n",
       "      <td>La bulle fine et presente se dirige vers la su...</td>\n",
       "      <td>4704.0</td>\n",
       "    </tr>\n",
       "    <tr>\n",
       "      <th>71</th>\n",
       "      <td>4144</td>\n",
       "      <td>1662</td>\n",
       "      <td>1</td>\n",
       "      <td>49.0</td>\n",
       "      <td>11</td>\n",
       "      <td>instock</td>\n",
       "      <td>87.0</td>\n",
       "      <td>Champagne Gosset Grand Rosé</td>\n",
       "      <td>Le nez exprime sans détour la fraise, dans sa ...</td>\n",
       "      <td>4263.0</td>\n",
       "    </tr>\n",
       "    <tr>\n",
       "      <th>218</th>\n",
       "      <td>4402</td>\n",
       "      <td>3510</td>\n",
       "      <td>1</td>\n",
       "      <td>176.0</td>\n",
       "      <td>8</td>\n",
       "      <td>instock</td>\n",
       "      <td>13.0</td>\n",
       "      <td>Cognac Frapin VIP XO</td>\n",
       "      <td>La cuvée VIP XO à été enrichie d’eaux-de-vie t...</td>\n",
       "      <td>2288.0</td>\n",
       "    </tr>\n",
       "    <tr>\n",
       "      <th>70</th>\n",
       "      <td>4142</td>\n",
       "      <td>11641</td>\n",
       "      <td>1</td>\n",
       "      <td>53.0</td>\n",
       "      <td>8</td>\n",
       "      <td>instock</td>\n",
       "      <td>30.0</td>\n",
       "      <td>Champagne Gosset Grand Millésime 2006</td>\n",
       "      <td>L'attaque est ample, gourmande avec une belle ...</td>\n",
       "      <td>1590.0</td>\n",
       "    </tr>\n",
       "    <tr>\n",
       "      <th>69</th>\n",
       "      <td>4141</td>\n",
       "      <td>304</td>\n",
       "      <td>1</td>\n",
       "      <td>39.0</td>\n",
       "      <td>1</td>\n",
       "      <td>instock</td>\n",
       "      <td>40.0</td>\n",
       "      <td>Champagne Gosset Grande Réserve</td>\n",
       "      <td>Le nez, ouvert et expressif, évoque les fruits...</td>\n",
       "      <td>1560.0</td>\n",
       "    </tr>\n",
       "  </tbody>\n",
       "</table>\n",
       "</div>"
      ],
      "text/plain": [
       "    product_id web_id  onsale_web  price  stock_quantity stock_status  \\\n",
       "194       4334   7818           1   49.0               0   outofstock   \n",
       "71        4144   1662           1   49.0              11      instock   \n",
       "218       4402   3510           1  176.0               8      instock   \n",
       "70        4142  11641           1   53.0               8      instock   \n",
       "69        4141    304           1   39.0               1      instock   \n",
       "\n",
       "     total_sales                              post_title  \\\n",
       "194         96.0  Champagne Gosset Grand Blanc de Blancs   \n",
       "71          87.0             Champagne Gosset Grand Rosé   \n",
       "218         13.0                    Cognac Frapin VIP XO   \n",
       "70          30.0   Champagne Gosset Grand Millésime 2006   \n",
       "69          40.0         Champagne Gosset Grande Réserve   \n",
       "\n",
       "                                          post_excerpt  product_ca  \n",
       "194  La bulle fine et presente se dirige vers la su...      4704.0  \n",
       "71   Le nez exprime sans détour la fraise, dans sa ...      4263.0  \n",
       "218  La cuvée VIP XO à été enrichie d’eaux-de-vie t...      2288.0  \n",
       "70   L'attaque est ample, gourmande avec une belle ...      1590.0  \n",
       "69   Le nez, ouvert et expressif, évoque les fruits...      1560.0  "
      ]
     },
     "execution_count": 129,
     "metadata": {},
     "output_type": "execute_result"
    }
   ],
   "source": [
    "df_final[\"product_ca\"]=df_final.price*df_final.total_sales\n",
    "df_final.sort_values(by=\"product_ca\", ascending=False, inplace=True)\n",
    "df_final.head()"
   ]
  },
  {
   "cell_type": "markdown",
   "id": "c8298191-2e7c-4dd6-ad08-441489ceeb2c",
   "metadata": {},
   "source": [
    "## <a name = \"C7\">Calcul du total du chiffre d’affaires réalisé en ligne</a>\n",
    "Je me base sur la colonne onsale_web=1 pour récupérer le CA éligible"
   ]
  },
  {
   "cell_type": "code",
   "execution_count": 130,
   "id": "20ef78b9-342f-4f5e-ad3c-e4588639cd5a",
   "metadata": {},
   "outputs": [
    {
     "data": {
      "text/html": [
       "<div>\n",
       "<style scoped>\n",
       "    .dataframe tbody tr th:only-of-type {\n",
       "        vertical-align: middle;\n",
       "    }\n",
       "\n",
       "    .dataframe tbody tr th {\n",
       "        vertical-align: top;\n",
       "    }\n",
       "\n",
       "    .dataframe thead th {\n",
       "        text-align: right;\n",
       "    }\n",
       "</style>\n",
       "<table border=\"1\" class=\"dataframe\">\n",
       "  <thead>\n",
       "    <tr style=\"text-align: right;\">\n",
       "      <th></th>\n",
       "      <th>onsale_web</th>\n",
       "      <th>product_ca</th>\n",
       "    </tr>\n",
       "  </thead>\n",
       "  <tbody>\n",
       "    <tr>\n",
       "      <th>0</th>\n",
       "      <td>1</td>\n",
       "      <td>70568.6</td>\n",
       "    </tr>\n",
       "  </tbody>\n",
       "</table>\n",
       "</div>"
      ],
      "text/plain": [
       "   onsale_web  product_ca\n",
       "0           1     70568.6"
      ]
     },
     "execution_count": 130,
     "metadata": {},
     "output_type": "execute_result"
    }
   ],
   "source": [
    "ca_online=df_final.groupby('onsale_web', as_index=False).agg({\"product_ca\" : \"sum\"})\n",
    "ca_online"
   ]
  },
  {
   "cell_type": "markdown",
   "id": "2ac16dc4-0667-4ae3-8efe-6321acfe51ad",
   "metadata": {},
   "source": [
    "Note : Après le merge, nous n'avons plus que de produits vendus en ligne. Les produits flagués \"0\" n'ont donc pas eu de correspondance lors du merge avec les données du web (vu que ce sont les ventes web, ça s'explique)."
   ]
  },
  {
   "cell_type": "code",
   "execution_count": 131,
   "id": "526b7f0f-8009-42d1-87b9-d4052b444072",
   "metadata": {},
   "outputs": [
    {
     "name": "stdout",
     "output_type": "stream",
     "text": [
      "Types de ventes dans l'erp : 1,0\n",
      "Types de ventes après merge temporaire : 1,0\n",
      "Types de ventes restants après merge avec les données du web : 1\n",
      "\n"
     ]
    }
   ],
   "source": [
    "print (f\"\"\"Types de ventes dans l'erp : {\",\".join(str(i) for i in df_erp.onsale_web.unique())}\n",
    "Types de ventes après merge temporaire : {\",\".join(str(i) for i in df_temp_merge.onsale_web.unique())}\n",
    "Types de ventes restants après merge avec les données du web : {\",\".join(str(i) for i in df_final.onsale_web.unique())}\n",
    "\"\"\")  "
   ]
  },
  {
   "cell_type": "code",
   "execution_count": 132,
   "id": "2d3840e8-fcc1-4f1d-9b27-01a312087ec5",
   "metadata": {},
   "outputs": [
    {
     "name": "stdout",
     "output_type": "stream",
     "text": [
      "Le CA (calculé après nettoyage des données effectué plus haut) réalisé en ligne s'élève à 70568.6€\n"
     ]
    }
   ],
   "source": [
    "print (f\"Le CA (calculé après nettoyage des données effectué plus haut) réalisé en ligne s'élève à {df_final.product_ca.sum()}€\")"
   ]
  },
  {
   "cell_type": "markdown",
   "id": "fed2d17b-166b-4f47-9271-2590968d2075",
   "metadata": {
    "tags": []
   },
   "source": [
    "# <a name=\"C8\">Analyse variable \"Prix\"</a>\n",
    "\n",
    "Je vais commencer par une analyse empirique puis je vais affiner avec 2 méthodes pour trouver les valeurs aberrantes/atypiques possibles : \n",
    "- z-score\n",
    "- écart interquartile\n",
    "\n",
    "Enfin, une représentation graphique de ces outliers viendra consolider l'analyse."
   ]
  },
  {
   "cell_type": "code",
   "execution_count": 133,
   "id": "0689b736-cc6d-4cfd-ab76-a47dbfd95d9a",
   "metadata": {},
   "outputs": [
    {
     "data": {
      "text/plain": [
       "count    714.000000\n",
       "mean      32.493137\n",
       "std       27.810525\n",
       "min        5.200000\n",
       "25%       14.100000\n",
       "50%       23.550000\n",
       "75%       42.175000\n",
       "max      225.000000\n",
       "Name: price, dtype: float64"
      ]
     },
     "execution_count": 133,
     "metadata": {},
     "output_type": "execute_result"
    }
   ],
   "source": [
    "df_final.price.describe()"
   ]
  },
  {
   "cell_type": "markdown",
   "id": "63c49e2f-ac46-49ff-a5db-84bf12720ab3",
   "metadata": {},
   "source": [
    "## <a name=\"C9\"> Représentation empirique</a>"
   ]
  },
  {
   "cell_type": "code",
   "execution_count": 134,
   "id": "4d06ef08-3c5f-4b3e-9c36-c1edada8bb1b",
   "metadata": {},
   "outputs": [
    {
     "data": {
      "image/png": "[encoded data removed]",
      "text/plain": [
       "<Figure size 432x288 with 1 Axes>"
      ]
     },
     "metadata": {
      "needs_background": "light"
     },
     "output_type": "display_data"
    }
   ],
   "source": [
    "df_final[\"price\"].hist(density=True)\n",
    "plt.title(\"Nb bouteilles par prix\")\n",
    "plt.xlabel(\"Prix\")\n",
    "plt.ylabel(\"Nombre de bouteilles\")\n",
    "plt.show()"
   ]
  },
  {
   "cell_type": "markdown",
   "id": "995763d9-ee9a-4298-b7ff-646fc7478989",
   "metadata": {},
   "source": [
    "Le diagramme montre que la plupart des prix sont en dessous de 100€, voire de 80€"
   ]
  },
  {
   "cell_type": "code",
   "execution_count": 135,
   "id": "3e9d0735-80b7-4297-9598-14502a198c7a",
   "metadata": {},
   "outputs": [
    {
     "data": {
      "text/plain": [
       "Prix < 80€    679\n",
       "Prix >=80€     35\n",
       "Name: price_category, dtype: int64"
      ]
     },
     "execution_count": 135,
     "metadata": {},
     "output_type": "execute_result"
    }
   ],
   "source": [
    "df_final['price_category'] = np.where(df_final['price'] < 80, 'Prix < 80€', 'Prix >=80€')\n",
    "df_final['price_category'].value_counts()"
   ]
  },
  {
   "cell_type": "markdown",
   "id": "0731a197-80f0-4a06-8eef-6582dafcf43b",
   "metadata": {},
   "source": [
    "J'affine alors le tableau pour ne montrer que les données jusqu'à 80€ et avoir un visuel moins étalé."
   ]
  },
  {
   "cell_type": "code",
   "execution_count": 136,
   "id": "1f109ee2-edb5-4a2d-8b93-578ba63410c3",
   "metadata": {},
   "outputs": [
    {
     "data": {
      "image/png": "[encoded data removed]",
      "text/plain": [
       "<Figure size 432x288 with 1 Axes>"
      ]
     },
     "metadata": {
      "needs_background": "light"
     },
     "output_type": "display_data"
    }
   ],
   "source": [
    "df_final[df_final.price < 80][\"price\"].hist(density=True,bins=20)\n",
    "plt.title(\"Nb bouteilles par prix\")\n",
    "plt.xlabel(\"Prix\")\n",
    "plt.ylabel(\"Nombre de bouteilles\")\n",
    "plt.show()"
   ]
  },
  {
   "cell_type": "markdown",
   "id": "d9fe4e25-7bd8-4991-8667-6a4c301ee53a",
   "metadata": {},
   "source": [
    "## <a name=\"C10\">Calcul du Z-score</a>\n",
    "Selon la formule (x-µ)/σ où\n",
    "- x=valeur de la cellule\n",
    "- µ=moyenne \n",
    "- σ=écart type.\n",
    "\n",
    "Méthode pour calculer les valeurs aberrantes ou atypiqyes :<br>\n",
    "Pour des données supposées normalement distribuées, 95% de celles-ci se situent dans 2 écarts types, et 99.7% dans 3. [source](https://towardsdatascience.com/5-outlier-detection-methods-that-every-data-enthusiast-must-know-f917bf439210)<br>\n",
    "Comme on ne cherche pas une grande précision, ne sachant pas vraiment ce que l'on cherche, un seuil de 2 sera plus pertinent."
   ]
  },
  {
   "cell_type": "code",
   "execution_count": 137,
   "id": "3df7ea92-2b80-4263-9a3c-70b550abbf8c",
   "metadata": {},
   "outputs": [
    {
     "name": "stdout",
     "output_type": "stream",
     "text": [
      "La moyenne de prix est de 32.49€ et l'écart type de 27.79\n"
     ]
    }
   ],
   "source": [
    "mean=np.mean(df_final.price)\n",
    "std_dev=np.std(df_final.price)\n",
    "\n",
    "print (f\"\"\"La moyenne de prix est de {mean:.2f}€ et l'écart type de {std_dev:.2f}\"\"\")"
   ]
  },
  {
   "cell_type": "code",
   "execution_count": 138,
   "id": "e2265743-e7fc-4930-8d44-ca502e42e753",
   "metadata": {},
   "outputs": [
    {
     "data": {
      "text/html": [
       "<div>\n",
       "<style scoped>\n",
       "    .dataframe tbody tr th:only-of-type {\n",
       "        vertical-align: middle;\n",
       "    }\n",
       "\n",
       "    .dataframe tbody tr th {\n",
       "        vertical-align: top;\n",
       "    }\n",
       "\n",
       "    .dataframe thead th {\n",
       "        text-align: right;\n",
       "    }\n",
       "</style>\n",
       "<table border=\"1\" class=\"dataframe\">\n",
       "  <thead>\n",
       "    <tr style=\"text-align: right;\">\n",
       "      <th></th>\n",
       "      <th>product_id</th>\n",
       "      <th>web_id</th>\n",
       "      <th>onsale_web</th>\n",
       "      <th>price</th>\n",
       "      <th>stock_quantity</th>\n",
       "      <th>stock_status</th>\n",
       "      <th>total_sales</th>\n",
       "      <th>post_title</th>\n",
       "      <th>post_excerpt</th>\n",
       "      <th>product_ca</th>\n",
       "      <th>price_category</th>\n",
       "      <th>z_score</th>\n",
       "    </tr>\n",
       "  </thead>\n",
       "  <tbody>\n",
       "    <tr>\n",
       "      <th>199</th>\n",
       "      <td>4352</td>\n",
       "      <td>15940</td>\n",
       "      <td>1</td>\n",
       "      <td>225.0</td>\n",
       "      <td>0</td>\n",
       "      <td>outofstock</td>\n",
       "      <td>5.0</td>\n",
       "      <td>Champagne Egly-Ouriet Grand Cru Millésimé 2008</td>\n",
       "      <td>Issu d’un assemblage de 70% de Pinot Noir du g...</td>\n",
       "      <td>1125.0</td>\n",
       "      <td>Prix &gt;=80€</td>\n",
       "      <td>6.926939</td>\n",
       "    </tr>\n",
       "    <tr>\n",
       "      <th>426</th>\n",
       "      <td>5001</td>\n",
       "      <td>14581</td>\n",
       "      <td>1</td>\n",
       "      <td>217.5</td>\n",
       "      <td>20</td>\n",
       "      <td>instock</td>\n",
       "      <td>0.0</td>\n",
       "      <td>David Duband Charmes-Chambertin Grand Cru 2014</td>\n",
       "      <td>Robe cerise chatoyante. Un nez de fruits rouge...</td>\n",
       "      <td>0.0</td>\n",
       "      <td>Prix &gt;=80€</td>\n",
       "      <td>6.657068</td>\n",
       "    </tr>\n",
       "    <tr>\n",
       "      <th>587</th>\n",
       "      <td>5892</td>\n",
       "      <td>14983</td>\n",
       "      <td>1</td>\n",
       "      <td>191.3</td>\n",
       "      <td>10</td>\n",
       "      <td>instock</td>\n",
       "      <td>3.0</td>\n",
       "      <td>Coteaux Champenois Egly-Ouriet Ambonnay Rouge ...</td>\n",
       "      <td>Cet Ambonnay évoque les grands Pinots Noirs de...</td>\n",
       "      <td>573.9</td>\n",
       "      <td>Prix &gt;=80€</td>\n",
       "      <td>5.714318</td>\n",
       "    </tr>\n",
       "    <tr>\n",
       "      <th>218</th>\n",
       "      <td>4402</td>\n",
       "      <td>3510</td>\n",
       "      <td>1</td>\n",
       "      <td>176.0</td>\n",
       "      <td>8</td>\n",
       "      <td>instock</td>\n",
       "      <td>13.0</td>\n",
       "      <td>Cognac Frapin VIP XO</td>\n",
       "      <td>La cuvée VIP XO à été enrichie d’eaux-de-vie t...</td>\n",
       "      <td>2288.0</td>\n",
       "      <td>Prix &gt;=80€</td>\n",
       "      <td>5.163781</td>\n",
       "    </tr>\n",
       "    <tr>\n",
       "      <th>553</th>\n",
       "      <td>5767</td>\n",
       "      <td>15185</td>\n",
       "      <td>1</td>\n",
       "      <td>175.0</td>\n",
       "      <td>12</td>\n",
       "      <td>instock</td>\n",
       "      <td>0.0</td>\n",
       "      <td>Camille Giroud Clos de Vougeot 2016</td>\n",
       "      <td>&lt;div&gt;Ce vin provient de vignes âgées de 50 ans...</td>\n",
       "      <td>0.0</td>\n",
       "      <td>Prix &gt;=80€</td>\n",
       "      <td>5.127798</td>\n",
       "    </tr>\n",
       "    <tr>\n",
       "      <th>...</th>\n",
       "      <td>...</td>\n",
       "      <td>...</td>\n",
       "      <td>...</td>\n",
       "      <td>...</td>\n",
       "      <td>...</td>\n",
       "      <td>...</td>\n",
       "      <td>...</td>\n",
       "      <td>...</td>\n",
       "      <td>...</td>\n",
       "      <td>...</td>\n",
       "      <td>...</td>\n",
       "      <td>...</td>\n",
       "    </tr>\n",
       "    <tr>\n",
       "      <th>97</th>\n",
       "      <td>4172</td>\n",
       "      <td>16210</td>\n",
       "      <td>1</td>\n",
       "      <td>5.7</td>\n",
       "      <td>167</td>\n",
       "      <td>instock</td>\n",
       "      <td>43.0</td>\n",
       "      <td>Maurel Pays d'Oc Chardonnay 2019</td>\n",
       "      <td>Un très joli petit chardonnay qui nous révèle ...</td>\n",
       "      <td>245.1</td>\n",
       "      <td>Prix &lt; 80€</td>\n",
       "      <td>-0.964093</td>\n",
       "    </tr>\n",
       "    <tr>\n",
       "      <th>99</th>\n",
       "      <td>4174</td>\n",
       "      <td>16209</td>\n",
       "      <td>1</td>\n",
       "      <td>5.7</td>\n",
       "      <td>94</td>\n",
       "      <td>instock</td>\n",
       "      <td>6.0</td>\n",
       "      <td>Maurel Cabardès Tradition 2017</td>\n",
       "      <td>Un joli nez aux arômes de fruits rouges, de ca...</td>\n",
       "      <td>34.2</td>\n",
       "      <td>Prix &lt; 80€</td>\n",
       "      <td>-0.964093</td>\n",
       "    </tr>\n",
       "    <tr>\n",
       "      <th>560</th>\n",
       "      <td>5777</td>\n",
       "      <td>14338</td>\n",
       "      <td>1</td>\n",
       "      <td>5.7</td>\n",
       "      <td>132</td>\n",
       "      <td>instock</td>\n",
       "      <td>0.0</td>\n",
       "      <td>Maurel Pays d'Oc Cabernet-Sauvignon 2017</td>\n",
       "      <td>&lt;span style=\"float: none; background-color: tr...</td>\n",
       "      <td>0.0</td>\n",
       "      <td>Prix &lt; 80€</td>\n",
       "      <td>-0.964093</td>\n",
       "    </tr>\n",
       "    <tr>\n",
       "      <th>98</th>\n",
       "      <td>4173</td>\n",
       "      <td>16211</td>\n",
       "      <td>1</td>\n",
       "      <td>5.7</td>\n",
       "      <td>100</td>\n",
       "      <td>instock</td>\n",
       "      <td>13.0</td>\n",
       "      <td>Maurel Pays d'Oc Chenin-Colombard 2019</td>\n",
       "      <td>Ce vin d'une grande fraîcheur est élaboré à pa...</td>\n",
       "      <td>74.1</td>\n",
       "      <td>Prix &lt; 80€</td>\n",
       "      <td>-0.964093</td>\n",
       "    </tr>\n",
       "    <tr>\n",
       "      <th>645</th>\n",
       "      <td>6129</td>\n",
       "      <td>14570</td>\n",
       "      <td>1</td>\n",
       "      <td>5.2</td>\n",
       "      <td>30</td>\n",
       "      <td>instock</td>\n",
       "      <td>0.0</td>\n",
       "      <td>Moulin de Gassac IGP Pays d'Hérault Guilhem Bl...</td>\n",
       "      <td>Nez Séduisant et puissant. Bouquet de fleurs j...</td>\n",
       "      <td>0.0</td>\n",
       "      <td>Prix &lt; 80€</td>\n",
       "      <td>-0.982084</td>\n",
       "    </tr>\n",
       "  </tbody>\n",
       "</table>\n",
       "<p>714 rows × 12 columns</p>\n",
       "</div>"
      ],
      "text/plain": [
       "    product_id web_id  onsale_web  price  stock_quantity stock_status  \\\n",
       "199       4352  15940           1  225.0               0   outofstock   \n",
       "426       5001  14581           1  217.5              20      instock   \n",
       "587       5892  14983           1  191.3              10      instock   \n",
       "218       4402   3510           1  176.0               8      instock   \n",
       "553       5767  15185           1  175.0              12      instock   \n",
       "..         ...    ...         ...    ...             ...          ...   \n",
       "97        4172  16210           1    5.7             167      instock   \n",
       "99        4174  16209           1    5.7              94      instock   \n",
       "560       5777  14338           1    5.7             132      instock   \n",
       "98        4173  16211           1    5.7             100      instock   \n",
       "645       6129  14570           1    5.2              30      instock   \n",
       "\n",
       "     total_sales                                         post_title  \\\n",
       "199          5.0     Champagne Egly-Ouriet Grand Cru Millésimé 2008   \n",
       "426          0.0     David Duband Charmes-Chambertin Grand Cru 2014   \n",
       "587          3.0  Coteaux Champenois Egly-Ouriet Ambonnay Rouge ...   \n",
       "218         13.0                               Cognac Frapin VIP XO   \n",
       "553          0.0                Camille Giroud Clos de Vougeot 2016   \n",
       "..           ...                                                ...   \n",
       "97          43.0                   Maurel Pays d'Oc Chardonnay 2019   \n",
       "99           6.0                     Maurel Cabardès Tradition 2017   \n",
       "560          0.0           Maurel Pays d'Oc Cabernet-Sauvignon 2017   \n",
       "98          13.0             Maurel Pays d'Oc Chenin-Colombard 2019   \n",
       "645          0.0  Moulin de Gassac IGP Pays d'Hérault Guilhem Bl...   \n",
       "\n",
       "                                          post_excerpt  product_ca  \\\n",
       "199  Issu d’un assemblage de 70% de Pinot Noir du g...      1125.0   \n",
       "426  Robe cerise chatoyante. Un nez de fruits rouge...         0.0   \n",
       "587  Cet Ambonnay évoque les grands Pinots Noirs de...       573.9   \n",
       "218  La cuvée VIP XO à été enrichie d’eaux-de-vie t...      2288.0   \n",
       "553  <div>Ce vin provient de vignes âgées de 50 ans...         0.0   \n",
       "..                                                 ...         ...   \n",
       "97   Un très joli petit chardonnay qui nous révèle ...       245.1   \n",
       "99   Un joli nez aux arômes de fruits rouges, de ca...        34.2   \n",
       "560  <span style=\"float: none; background-color: tr...         0.0   \n",
       "98   Ce vin d'une grande fraîcheur est élaboré à pa...        74.1   \n",
       "645  Nez Séduisant et puissant. Bouquet de fleurs j...         0.0   \n",
       "\n",
       "    price_category   z_score  \n",
       "199     Prix >=80€  6.926939  \n",
       "426     Prix >=80€  6.657068  \n",
       "587     Prix >=80€  5.714318  \n",
       "218     Prix >=80€  5.163781  \n",
       "553     Prix >=80€  5.127798  \n",
       "..             ...       ...  \n",
       "97      Prix < 80€ -0.964093  \n",
       "99      Prix < 80€ -0.964093  \n",
       "560     Prix < 80€ -0.964093  \n",
       "98      Prix < 80€ -0.964093  \n",
       "645     Prix < 80€ -0.982084  \n",
       "\n",
       "[714 rows x 12 columns]"
      ]
     },
     "execution_count": 138,
     "metadata": {},
     "output_type": "execute_result"
    }
   ],
   "source": [
    "df_final[\"z_score\"]=(df_final.price - mean)/std_dev\n",
    "df_final.sort_values(\"z_score\", ascending=False)"
   ]
  },
  {
   "cell_type": "markdown",
   "id": "f8f5c6a4-7be2-4afc-8501-2faf113e71c5",
   "metadata": {},
   "source": [
    "Je détecte les valeurs aberrantes ou atypiques en regardant les z_score supérieurs ou inférieurs au seuil de 2 écarts types.<br>\n",
    "Puis, je calcule le seuil de prix à partir duquel une valeur est considérée comme un outlier : (x-µ)/σ=seuil soit x = seuil * σ + µ"
   ]
  },
  {
   "cell_type": "code",
   "execution_count": 139,
   "id": "7a41563a-304a-4523-bc4d-6e3c6a508867",
   "metadata": {},
   "outputs": [
    {
     "name": "stdout",
     "output_type": "stream",
     "text": [
      " Les 30 produits suivants peuvent avoir des prix considérés comme valeurs aberrantes ou atypiques :\n",
      "                                            post_title  price\n",
      "199     Champagne Egly-Ouriet Grand Cru Millésimé 2008  225.0\n",
      "426     David Duband Charmes-Chambertin Grand Cru 2014  217.5\n",
      "587  Coteaux Champenois Egly-Ouriet Ambonnay Rouge ...  191.3\n",
      "218                               Cognac Frapin VIP XO  176.0\n",
      "553                Camille Giroud Clos de Vougeot 2016  175.0\n",
      "221  Cognac Frapin Château de Fontpinot 1989 20 Ans...  157.0\n",
      "381  Domaine Des Croix Corton Charlemagne Grand Cru...  137.0\n",
      "642             Champagne Gosset Célébris Vintage 2007  135.0\n",
      "201     Champagne Egly-Ouriet Grand Cru Blanc de Noirs  126.5\n",
      "511  Domaine Weinbach Gewurztraminer Grand Cru Furs...  124.8\n",
      "603  Wemyss Malts Single Cask Scotch Whisky Choc 'n...  122.0\n",
      "657  Domaine des Comtes Lafon Volnay 1er Cru Champa...  121.0\n",
      "654  Domaine des Comtes Lafon Volnay 1er Cru Santen...  121.0\n",
      "648  Domaine Clerget Echezeaux Grand Cru En Orveaux...  116.4\n",
      "656  Domaine des Comtes Lafon Volnay 1er Cru Champa...  115.0\n",
      "653  Domaine des Comtes Lafon Volnay 1er Cru Santen...  115.0\n",
      "604  Wemyss Malts Single Cask Scotch Whisky Chai Ca...  114.0\n",
      "437  Champagne Agrapart &amp; Fils L'Avizoise Extra...  112.0\n",
      "227  Château de Meursault Puligny-Montrachet 1er Cr...  109.6\n",
      "219              Cognac Frapin Château de Fontpinot XO  108.5\n",
      "647  David Duband Chambolle-Musigny 1er Cru Les Sen...  105.6\n",
      "431  Domaine des Comtes Lafon Volnay 1er Cru Santen...  105.0\n",
      "432  Domaine des Comtes Lafon Volnay 1er Cru Santen...  105.0\n",
      "222                          Cognac Frapin Cigar Blend  104.0\n",
      "380  Domaine Des Croix Corton Grand Cru Les Grèves ...  102.3\n",
      "63   Zind-Humbrecht Riesling Grand Cru Rangen De Th...  100.0\n",
      "655  Domaine des Comtes Lafon Volnay 1er Cru Champa...   99.0\n",
      "602  Wemyss Malts Single Cask Scotch Whisky Chocola...   93.0\n",
      "502                      Tempier Bandol Cabassaou 2017   92.0\n",
      "65   Zind-Humbrecht Pinot Gris Grand Cru Rangen De ...   88.4\n",
      "\n",
      "Le prix à partir duquel on considère qu'il y a potentiellement une anomalie est 88.08€.\n"
     ]
    }
   ],
   "source": [
    "threshold_z_score = 2\n",
    "z_score_outliers=df_final[(df_final[\"z_score\"]>threshold_z_score ) | (df_final[\"z_score\"]<-threshold_z_score)][[\"post_title\",\"price\"]]\n",
    "price_outlier=threshold_z_score * std_dev + mean\n",
    "\n",
    "print (f\"\"\" Les {len(z_score_outliers)} produits suivants peuvent avoir des prix considérés comme valeurs aberrantes ou atypiques :\n",
    "{z_score_outliers.sort_values(\"price\", ascending=False)}\n",
    "\n",
    "Le prix à partir duquel on considère qu'il y a potentiellement une anomalie est {price_outlier:.2f}€.\"\"\")"
   ]
  },
  {
   "cell_type": "markdown",
   "id": "25da632a-650c-4db1-b657-dbe6ca57de71",
   "metadata": {},
   "source": [
    "## <a name=\"C11\">Calcul de l'écart interquartile</a>\n",
    "\n",
    "Selon la formule <br>\n",
    "Ecart interquartile = 3ème quartile - 1er quartile\n",
    "\n",
    "Méthode pour calculer les outliers :<br>\n",
    "Une valeur aberrante ou atypique dans une distribution est un nombre qui est plus d'une fois et demie la longueur de la boîte à l'écart du quartile inférieur ou supérieur. <br>\n",
    "Si un nombre est inférieur à Q1 - 1,5×IQR ou supérieur à Q3 + 1,5×IQR, alors c'est une valeur aberrante. [Source](!https://miniwebtool.com/fr/outlier-calculator/)"
   ]
  },
  {
   "cell_type": "code",
   "execution_count": 140,
   "id": "52558d98-b605-4a03-aa94-07b9655f166a",
   "metadata": {},
   "outputs": [
    {
     "name": "stdout",
     "output_type": "stream",
     "text": [
      "La médiane des prix est égale à 23.55€ : il y a autant de prix au dessus de ce montant qu'en dessous.\n"
     ]
    }
   ],
   "source": [
    "median=np.median(df_final.price)\n",
    "\n",
    "print (f\"La médiane des prix est égale à {median}€ : il y a autant de prix au dessus de ce montant qu'en dessous.\") "
   ]
  },
  {
   "cell_type": "code",
   "execution_count": 141,
   "id": "2b27f7fd-4b10-4eb6-99f7-3c9ed79cde25",
   "metadata": {},
   "outputs": [
    {
     "name": "stdout",
     "output_type": "stream",
     "text": [
      "Le premier quartile est égal à 14.1€\n",
      "Le 3ème quartile égal 42.2€\n",
      "L'écart interquartile vaut 28.1€\n"
     ]
    }
   ],
   "source": [
    "Q1=np.median(df_final[df_final.price<=median][\"price\"])\n",
    "\n",
    "Q3=np.median(df_final[df_final.price>median][\"price\"])\n",
    "\n",
    "iqr = Q3-Q1\n",
    "\n",
    "print(f\"\"\"Le premier quartile est égal à {Q1}€\n",
    "Le 3ème quartile égal {Q3}€\n",
    "L'écart interquartile vaut {iqr}€\"\"\")"
   ]
  },
  {
   "cell_type": "markdown",
   "id": "29307a44-c8b0-425f-a0f3-7b0a3f6ac916",
   "metadata": {},
   "source": [
    "Je détecte les valeurs aberrantes ou atypiques en regardant la distribution à 1.5 écart des quartiles inférieur ou supérieur.<br>"
   ]
  },
  {
   "cell_type": "code",
   "execution_count": 142,
   "id": "7f9f3f2a-6148-409e-af09-4ad740afa82c",
   "metadata": {},
   "outputs": [
    {
     "name": "stdout",
     "output_type": "stream",
     "text": [
      "Les valeurs sous -28.05€ ou au dessus de 84.35€ peuvent être considérées comme des outliers.\n",
      "\n",
      "Voici une liste de 32 produits dont le prix est peut-être erroné :\n",
      "\n",
      "                                            post_title  price\n",
      "199     Champagne Egly-Ouriet Grand Cru Millésimé 2008  225.0\n",
      "426     David Duband Charmes-Chambertin Grand Cru 2014  217.5\n",
      "587  Coteaux Champenois Egly-Ouriet Ambonnay Rouge ...  191.3\n",
      "218                               Cognac Frapin VIP XO  176.0\n",
      "553                Camille Giroud Clos de Vougeot 2016  175.0\n",
      "221  Cognac Frapin Château de Fontpinot 1989 20 Ans...  157.0\n",
      "381  Domaine Des Croix Corton Charlemagne Grand Cru...  137.0\n",
      "642             Champagne Gosset Célébris Vintage 2007  135.0\n",
      "201     Champagne Egly-Ouriet Grand Cru Blanc de Noirs  126.5\n",
      "511  Domaine Weinbach Gewurztraminer Grand Cru Furs...  124.8\n",
      "603  Wemyss Malts Single Cask Scotch Whisky Choc 'n...  122.0\n",
      "657  Domaine des Comtes Lafon Volnay 1er Cru Champa...  121.0\n",
      "654  Domaine des Comtes Lafon Volnay 1er Cru Santen...  121.0\n",
      "648  Domaine Clerget Echezeaux Grand Cru En Orveaux...  116.4\n",
      "656  Domaine des Comtes Lafon Volnay 1er Cru Champa...  115.0\n",
      "653  Domaine des Comtes Lafon Volnay 1er Cru Santen...  115.0\n",
      "604  Wemyss Malts Single Cask Scotch Whisky Chai Ca...  114.0\n",
      "437  Champagne Agrapart &amp; Fils L'Avizoise Extra...  112.0\n",
      "227  Château de Meursault Puligny-Montrachet 1er Cr...  109.6\n",
      "219              Cognac Frapin Château de Fontpinot XO  108.5\n",
      "647  David Duband Chambolle-Musigny 1er Cru Les Sen...  105.6\n",
      "431  Domaine des Comtes Lafon Volnay 1er Cru Santen...  105.0\n",
      "432  Domaine des Comtes Lafon Volnay 1er Cru Santen...  105.0\n",
      "222                          Cognac Frapin Cigar Blend  104.0\n",
      "380  Domaine Des Croix Corton Grand Cru Les Grèves ...  102.3\n",
      "63   Zind-Humbrecht Riesling Grand Cru Rangen De Th...  100.0\n",
      "655  Domaine des Comtes Lafon Volnay 1er Cru Champa...   99.0\n",
      "602  Wemyss Malts Single Cask Scotch Whisky Chocola...   93.0\n",
      "502                      Tempier Bandol Cabassaou 2017   92.0\n",
      "65   Zind-Humbrecht Pinot Gris Grand Cru Rangen De ...   88.4\n",
      "438  Champagne Agrapart &amp; Fils Minéral Extra Br...   86.8\n",
      "205  Champagne Larmandier-Bernier Grand Cru Les Che...   85.6\n",
      "\n",
      "\n"
     ]
    }
   ],
   "source": [
    "threshold_iqr=1.5\n",
    "iqr_outlier_Q1=Q1 - 1.5*iqr\n",
    "iqr_outlier_Q3=Q3 + 1.5*iqr\n",
    "iqr_outliers = df_final[(df_final.price > iqr_outlier_Q3) | (df_final.price < iqr_outlier_Q1)][[\"post_title\",\"price\"]]\n",
    "\n",
    "print (f\"\"\"Les valeurs sous {iqr_outlier_Q1:.2f}€ ou au dessus de {iqr_outlier_Q3:.2f}€ peuvent être considérées comme des outliers.\n",
    "\n",
    "Voici une liste de {len(iqr_outliers)} produits dont le prix est peut-être erroné :\n",
    "\n",
    "{iqr_outliers.sort_values(\"price\", ascending=False)}\n",
    "\n",
    "\"\"\")\n"
   ]
  },
  {
   "cell_type": "markdown",
   "id": "db4b5efe-cb37-414f-b705-bc947f8ae990",
   "metadata": {},
   "source": [
    "## <a name=\"C12\">Représentation graphique des outliers</a>"
   ]
  },
  {
   "cell_type": "markdown",
   "id": "98f49cec-8006-46bc-a056-f18604143d31",
   "metadata": {},
   "source": [
    "Boxplot"
   ]
  },
  {
   "cell_type": "code",
   "execution_count": 143,
   "id": "14ab4e53-e1b3-4c79-8d35-e3eaa2e211a8",
   "metadata": {},
   "outputs": [
    {
     "data": {
      "text/plain": [
       "<AxesSubplot:xlabel='price'>"
      ]
     },
     "execution_count": 143,
     "metadata": {},
     "output_type": "execute_result"
    },
    {
     "data": {
      "image/png": "[encoded data removed]",
      "text/plain": [
       "<Figure size 432x288 with 1 Axes>"
      ]
     },
     "metadata": {
      "needs_background": "light"
     },
     "output_type": "display_data"
    }
   ],
   "source": [
    "sns.boxplot(x=df_final[\"price\"])"
   ]
  },
  {
   "cell_type": "markdown",
   "id": "0bb8db8c-eaef-4360-9085-cfcccab0512b",
   "metadata": {},
   "source": [
    "## <a name=\"C13\">Conclusion</a>\n",
    "\n",
    "Selon la méthode de calcul, on ne trouve pas exactement les mêmes valeurs. Mais les résultats sont proches, il n'y a que 2 lignes d'écart, et ils sont confirmés par le graphique de type \"boite à moustaches\".<br>\n",
    "En cas de suspicion de prix erronés, la liste de 32 produits fournis permettra d'effectuer un contrôle."
   ]
  }
 ],
 "metadata": {
  "kernelspec": {
   "display_name": "Python 3 (ipykernel)",
   "language": "python",
   "name": "python3"
  },
  "language_info": {
   "codemirror_mode": {
    "name": "ipython",
    "version": 3
   },
   "file_extension": ".py",
   "mimetype": "text/x-python",
   "name": "python",
   "nbconvert_exporter": "python",
   "pygments_lexer": "ipython3",
   "version": "3.9.7"
  }
 },
 "nbformat": 4,
 "nbformat_minor": 5
}
